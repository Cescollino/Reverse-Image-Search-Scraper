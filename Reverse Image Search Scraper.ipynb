{
 "cells": [
  {
   "cell_type": "markdown",
   "id": "25125305-1707-4978-839d-f397d49d542f",
   "metadata": {
    "tags": []
   },
   "source": [
    "# Importing Libraries, Hardcoding Search Engine Information"
   ]
  },
  {
   "cell_type": "markdown",
   "id": "04817fee-4da0-4eee-84f3-ba34877287d1",
   "metadata": {
    "tags": []
   },
   "source": [
    "## Reverse image search inspiration"
   ]
  },
  {
   "cell_type": "markdown",
   "id": "5b2d6bfd-f687-4d27-a331-d2b436b4d322",
   "metadata": {
    "tags": []
   },
   "source": [
    "\n",
    "Gists taken from : https://gist.github.com/erm3nda/1f3819c71a6ca95d0bb32053536bb9f3\n",
    "\n",
    "and : https://medium.com/geekculture/scraping-images-using-selenium-f35fab26b122"
   ]
  },
  {
   "cell_type": "code",
   "execution_count": 413,
   "id": "370d972b-6fc7-4b8c-be4d-931c063a4fc8",
   "metadata": {},
   "outputs": [
    {
     "name": "stdout",
     "output_type": "stream",
     "text": [
      "Welcome to Python.org\n"
     ]
    }
   ],
   "source": [
    "## TEST SCRIPT FOR GOOGLE WEBDRIVER\n",
    "from selenium import webdriver\n",
    "from selenium.webdriver.chrome.options import Options\n",
    "from selenium.webdriver.chrome.service import Service\n",
    "from webdriver_manager.chrome import ChromeDriverManager\n",
    " \n",
    "options = Options()\n",
    "options.add_argument('--headless')\n",
    "options.add_argument('--no-sandbox')\n",
    "options.add_argument('--disable-dev-shm-usage')\n",
    "driver = webdriver.Chrome(service=Service(ChromeDriverManager().install()), options=options)\n",
    " \n",
    "driver.get(\"https://python.org\")\n",
    "print(driver.title)\n",
    "driver.close()"
   ]
  },
  {
   "cell_type": "markdown",
   "id": "9fc508ec-1ce8-4a3b-ade8-996fa500188a",
   "metadata": {
    "tags": []
   },
   "source": [
    "## Importing Libraries"
   ]
  },
  {
   "cell_type": "code",
   "execution_count": 414,
   "id": "3ca3132e-d3d7-4679-8aa4-ec4995cabcb3",
   "metadata": {
    "tags": []
   },
   "outputs": [],
   "source": [
    "import os, sys, re, io #handling files\n",
    "import base64\n",
    "from tqdm import tqdm\n",
    "\n",
    "#############################################################################\n",
    "\n",
    "import requests # HTTP\n",
    "from requests.adapters import HTTPAdapter\n",
    "from urllib3.util.retry import Retry\n",
    "import webbrowser \n",
    "\n",
    "#############################################################################\n",
    "import numpy as np # math\n",
    "import json\n",
    "\n",
    "#############################################################################\n",
    "import threading #for multiple browsers at the same time\n",
    "import logging\n",
    "import time\n",
    "\n",
    "#############################################################################\n",
    "import pdb #because this didnt work on first try\n",
    "\n",
    "###########################################################\n",
    "import selenium # Bot\n",
    "\n",
    "from selenium import webdriver\n",
    "from selenium.webdriver.support.ui import WebDriverWait\n",
    "from selenium.webdriver.remote.webelement import WebElement \n",
    "from selenium.webdriver.common.by import By\n",
    "from selenium.webdriver.support import expected_conditions as EC\n",
    "from selenium.webdriver.chrome.options import Options\n",
    "from selenium.webdriver.chrome.service import Service\n",
    "from webdriver_manager.chrome import ChromeDriverManager\n",
    "###############################################################################\n",
    "#Image processing for testing \n",
    "import PIL\n",
    "from PIL import Image\n",
    "##\n",
    "from pyvirtualdisplay import Display"
   ]
  },
  {
   "cell_type": "markdown",
   "id": "b35b4d96-613a-4480-aeaf-3ba4c90b84a3",
   "metadata": {
    "tags": []
   },
   "source": [
    "## Check your Python Version\n",
    "This code needs the swith-case function available in python 3.10 to handle the differences between the different websites simultaneously."
   ]
  },
  {
   "cell_type": "code",
   "execution_count": 415,
   "id": "6f788641-c017-4b33-a007-db44a4bac7cf",
   "metadata": {},
   "outputs": [
    {
     "name": "stdout",
     "output_type": "stream",
     "text": [
      "3.10.6 (main, Aug 10 2022, 11:40:04) [GCC 11.3.0]\n"
     ]
    }
   ],
   "source": [
    "print(sys.version)"
   ]
  },
  {
   "cell_type": "markdown",
   "id": "df5b4c21-2df4-49ec-a205-f2f65c594737",
   "metadata": {
    "tags": []
   },
   "source": [
    "## Graphic or Headless Options & Starting Virtual Display"
   ]
  },
  {
   "cell_type": "code",
   "execution_count": 416,
   "id": "2e6de4f1-d563-4b3a-b1ea-ede36f07ff3c",
   "metadata": {},
   "outputs": [
    {
     "data": {
      "text/plain": [
       "<pyvirtualdisplay.display.Display at 0x7f7cbcb43010>"
      ]
     },
     "execution_count": 416,
     "metadata": {},
     "output_type": "execute_result"
    }
   ],
   "source": [
    "display = Display(visible=0, size=(1920, 1080))\n",
    "display.start()"
   ]
  },
  {
   "cell_type": "code",
   "execution_count": 417,
   "id": "aebe8efe-d7ca-4dce-8721-7cc37c996010",
   "metadata": {
    "tags": []
   },
   "outputs": [],
   "source": [
    "def SetupOptions():\n",
    "    #enable-lens-fullscreen-search\n",
    "    #enable-lens-standalone\n",
    "    options = Options()\n",
    "    options.headless=False #True\n",
    "    options.add_argument(\"--start-maximized\");\n",
    "    options.add_argument(\"--disable-dev-shm-usage\");\n",
    "    options.add_argument(\"--no-experiments\");\n",
    "    options.add_argument(\"--disable-plugins\");\n",
    "    options.add_argument(\"--incognito\");\n",
    "    options.add_experimental_option(\"excludeSwitches\", [\"enable-automation\"]);\n",
    "    options.add_experimental_option('useAutomationExtension', False)\n",
    "    \n",
    "    \n",
    "    return options"
   ]
  },
  {
   "cell_type": "markdown",
   "id": "b41c75b0-2f42-4c4b-8380-7d1855dc1769",
   "metadata": {
    "tags": []
   },
   "source": [
    "### Testing Script"
   ]
  },
  {
   "cell_type": "code",
   "execution_count": 418,
   "id": "e2245147-95b9-4d13-9d2b-b3b6d10131e6",
   "metadata": {},
   "outputs": [
    {
     "name": "stdout",
     "output_type": "stream",
     "text": [
      "False\n"
     ]
    }
   ],
   "source": [
    "print(SetupOptions().headless)"
   ]
  },
  {
   "cell_type": "markdown",
   "id": "b5b683b9-cac5-4215-9cea-0eeb118597c3",
   "metadata": {
    "tags": []
   },
   "source": [
    "## SearchEngine Class"
   ]
  },
  {
   "cell_type": "code",
   "execution_count": 419,
   "id": "9801ccfb-8173-4ede-8811-e4ebea376d34",
   "metadata": {
    "tags": []
   },
   "outputs": [],
   "source": [
    "class SearchEngine():\n",
    "    def __init__(self, URL:str,ID:int, thumbnail:str, image:str,load:str, options = SetupOptions()):\n",
    "        self.URL = URL\n",
    "        self.ID = ID\n",
    "        self.thumbnail = thumbnail\n",
    "        self.image = image\n",
    "        self.load = load\n",
    "        self.options = options\n",
    "        "
   ]
  },
  {
   "cell_type": "markdown",
   "id": "7978252c-74a6-4f5e-aab6-f6a78b53a407",
   "metadata": {
    "tags": []
   },
   "source": [
    "## Building Google SearchEngine:"
   ]
  },
  {
   "cell_type": "code",
   "execution_count": 420,
   "id": "abfb4380-86d7-4b8d-b35d-106d0eeffeea",
   "metadata": {
    "tags": []
   },
   "outputs": [],
   "source": [
    "Google= SearchEngine(URL=\"https://images.google.com/searchbyimage/upload\",\n",
    "               ID=0,\n",
    "               thumbnail=(By.CSS_SELECTOR,\"img.Q4LuWd\"),\n",
    "               image = (By.XPATH,\"//*[@id=\\\"Sva75c\\\"]/div/div/div[3]/div[2]/c-wiz/div/div[1]/div[1]/div[3]/div/a/img\"),\n",
    "               load = (By.CSS_SELECTOR,\".mye4qd\"))"
   ]
  },
  {
   "cell_type": "markdown",
   "id": "c5c2cf81-6a8d-4c98-b4eb-b6f17e8ff57d",
   "metadata": {
    "tags": []
   },
   "source": [
    "## Building Yandex SearchEngine:"
   ]
  },
  {
   "cell_type": "code",
   "execution_count": 421,
   "id": "b560aa38-3b99-4bbb-90a4-7b6070f74e0b",
   "metadata": {
    "tags": []
   },
   "outputs": [],
   "source": [
    "Yandex= SearchEngine(URL=\"https://yandex.com/images/search\",\n",
    "                     ID=1,\n",
    "                     thumbnail=(By.XPATH,\"//div[@class='serp-item__preview']/a/img\"),\n",
    "                     image = (By.XPATH,\"//div[@class='MMImageContainer']/img\"),\n",
    "                     load = \"\")\n"
   ]
  },
  {
   "cell_type": "markdown",
   "id": "f1fa9ddc-1501-4be9-84c7-ae97e476d1e3",
   "metadata": {
    "tags": []
   },
   "source": [
    "## Building Sogou SearchEngine:"
   ]
  },
  {
   "cell_type": "code",
   "execution_count": 422,
   "id": "c55758cc-03ee-469d-8e89-8c5c81b4f9f8",
   "metadata": {
    "tags": []
   },
   "outputs": [],
   "source": [
    "Sogou= SearchEngine(URL='https://pic.sogou.com/',\n",
    "                    ID=2,\n",
    "                    thumbnail=(By.XPATH,\"//div[@class='img-layout']/a/img\"),\n",
    "                    image = (By.XPATH, \"//div[@id='imgArea']/div[3]/div/div/a/img\"),\n",
    "                    #image = (By.XPATH, \"//*[@id=\\\"imgArea\\\"]/div[3]/div/div/a/img\"),\n",
    "                    #image = (By.XPATH,\"//div[@class='img-box']/a/img\"),\n",
    "                    load = \"\")"
   ]
  },
  {
   "cell_type": "markdown",
   "id": "92d83504-212c-434d-92b4-5b58fdf2cb49",
   "metadata": {
    "tags": []
   },
   "source": [
    "## Engine_List"
   ]
  },
  {
   "cell_type": "code",
   "execution_count": 423,
   "id": "61bd1e89-0d86-4027-a311-632fe097822c",
   "metadata": {
    "tags": []
   },
   "outputs": [
    {
     "name": "stdout",
     "output_type": "stream",
     "text": [
      "https://images.google.com/searchbyimage/upload \n",
      " ID: 0 \n",
      " Thumbnail: ('css selector', 'img.Q4LuWd') \n",
      " Image: ('xpath', '//*[@id=\"Sva75c\"]/div/div/div[3]/div[2]/c-wiz/div/div[1]/div[1]/div[3]/div/a/img') \n",
      " Load_Button: ('css selector', '.mye4qd') \n",
      "\n",
      "\n",
      "https://yandex.com/images/search \n",
      " ID: 1 \n",
      " Thumbnail: ('xpath', \"//div[@class='serp-item__preview']/a/img\") \n",
      " Image: ('xpath', \"//div[@class='MMImageContainer']/img\") \n",
      " Load_Button:  \n",
      "\n",
      "\n",
      "https://pic.sogou.com/ \n",
      " ID: 2 \n",
      " Thumbnail: ('xpath', \"//div[@class='img-layout']/a/img\") \n",
      " Image: ('xpath', \"//div[@id='imgArea']/div[3]/div/div/a/img\") \n",
      " Load_Button:  \n",
      "\n",
      "\n"
     ]
    }
   ],
   "source": [
    "Engine_List= []\n",
    "Engine_List.append(Google)#0\n",
    "Engine_List.append(Yandex)#1\n",
    "Engine_List.append(Sogou)#2\n",
    "\n",
    "for engine in Engine_List:\n",
    "    print(engine.URL,\n",
    "      \"\\n\",\n",
    "      \"ID:\", engine.ID,\n",
    "      \"\\n\",\n",
    "      \"Thumbnail:\", engine.thumbnail,\n",
    "      \"\\n\",\n",
    "      \"Image:\", engine.image,\n",
    "      \"\\n\",\n",
    "      \"Load_Button:\", engine.load,\"\\n\\n\")"
   ]
  },
  {
   "cell_type": "markdown",
   "id": "c4ca5953-4311-4cda-bfd0-9c06fb52f589",
   "metadata": {
    "tags": []
   },
   "source": [
    "# Browsing using Selenium"
   ]
  },
  {
   "cell_type": "markdown",
   "id": "eb9d341c-e265-461f-8b69-458b5943d17f",
   "metadata": {
    "jp-MarkdownHeadingCollapsed": true,
    "tags": []
   },
   "source": [
    "## Definiting Basic Functions to Start and Fetch Pages"
   ]
  },
  {
   "cell_type": "code",
   "execution_count": 424,
   "id": "a47522c7-3720-4730-a736-7176aa28b76b",
   "metadata": {},
   "outputs": [],
   "source": [
    "def StartDriver(Engine:SearchEngine,initial_wait:int=10):\n",
    "    driverpath='/usr/local/bin/chromedriver/'\n",
    "    try:\n",
    "        driver = webdriver.Chrome(service=Service(ChromeDriverManager().install()), options=Engine.options)\n",
    "        driver.get(Engine.URL)\n",
    "        WebDriverWait(driver,initial_wait);\n",
    "        print (\"Chrome Driver #\",Engine.ID,\" Initialized\")\n",
    "        return driver\n",
    "        #driver.quit()\n",
    "        \n",
    "    except Exception as e:\n",
    "        print (\"FAILURE: Chrome Driver #\",Engine.ID,\"Not Initialized\",\"Exception:\",e)"
   ]
  },
  {
   "cell_type": "raw",
   "id": "5a168297-e9c5-4a98-b1ec-6386a983160f",
   "metadata": {},
   "source": [
    "### Testing Script\n",
    "driver = StartDriver(Yandex)\n",
    "\"\"\" \n",
    "WORKS\n",
    "\"\"\""
   ]
  },
  {
   "cell_type": "markdown",
   "id": "2240bcfe-d10b-4822-9f28-166d8c5d0133",
   "metadata": {
    "tags": []
   },
   "source": [
    "## Uploading Photographs to Different Websites"
   ]
  },
  {
   "cell_type": "markdown",
   "id": "e21e7a81-52cc-4938-9916-45117c3fa5a0",
   "metadata": {
    "tags": []
   },
   "source": [
    "### Google"
   ]
  },
  {
   "cell_type": "code",
   "execution_count": 425,
   "id": "a1595ab2-f6d9-4308-953f-fc57703b53cf",
   "metadata": {},
   "outputs": [],
   "source": [
    "def GoogleUpload(Engine:SearchEngine, img_path:str, wait_button_click:int=5):\n",
    "    try:\n",
    "        # This avoids the annoying \"Google Lens\" Feature (or Bug rather) present in chrome\n",
    "        multipart = {'encoded_image': (img_path, open(img_path, 'rb')), 'image_content': ''}\n",
    "        response = requests.post('http://www.google.com/searchbyimage/upload', files=multipart, allow_redirects=False)\n",
    "        print(response)\n",
    "        fetchUrl = response.headers['Location']\n",
    "        Engine.URL=fetchUrl\n",
    "        driver=StartDriver(Engine)\n",
    "        driver.find_element(By.XPATH,\"//a[contains(.,'similar images')]\").click()\n",
    "        print('ENGINE #',Engine.ID,' Uploaded File, Now Scraping Similar Images...')\n",
    "    except Exception as e:\n",
    "        print (e)\n",
    "        \n",
    "    return driver"
   ]
  },
  {
   "cell_type": "code",
   "execution_count": 426,
   "id": "fd666888-e798-4bc4-8342-f39c791d5fc7",
   "metadata": {},
   "outputs": [],
   "source": [
    "file_path = '/home/cescollino/Documents/ETS/MAITRISE/Dataset/cat.jpg'"
   ]
  },
  {
   "cell_type": "raw",
   "id": "b18d6f58-508d-4532-b343-94eb7d6d98aa",
   "metadata": {},
   "source": [
    "GoogleUpload(Engine=Google,img_path=file_path)\n",
    "#WORKS"
   ]
  },
  {
   "cell_type": "markdown",
   "id": "402a2821-df5d-4c4c-97e6-968a9d926b2c",
   "metadata": {
    "tags": []
   },
   "source": [
    "### Yandex"
   ]
  },
  {
   "cell_type": "code",
   "execution_count": 427,
   "id": "b441208d-4bf6-44bc-914b-caf7458ca154",
   "metadata": {},
   "outputs": [],
   "source": [
    "def YandexUpload(Engine:SearchEngine, img_path:str, wait_button_click:int=5):\n",
    "    try:\n",
    "        driver=StartDriver(Engine)\n",
    "        driver.find_element(By.XPATH,\"/html/body/header/div/div[1]/div[2]/form/div[1]/span/span/button\").click()\n",
    "        driver.find_element(By.XPATH,\"//input[@type='file']\").send_keys(img_path);\n",
    "        WebDriverWait(driver, 15).until(\n",
    "        EC.presence_of_element_located((By.XPATH, \"//a[contains(.,'Similar images')]\"))\n",
    "        )\n",
    "        driver.find_element(By.XPATH,\"//a[contains(.,'Similar images')]\").click()\n",
    "        WebDriverWait(driver, 2)\n",
    "        driver.back()\n",
    "        driver.forward()\n",
    "        print('ENGINE #',Engine.ID,' Uploaded File, Now Scraping Similar Images...')\n",
    "    except Exception as e:\n",
    "        print (e)\n",
    "    return driver"
   ]
  },
  {
   "cell_type": "raw",
   "id": "13830f97-c6a4-4512-b6d0-c49bcd1affd6",
   "metadata": {},
   "source": [
    "YandexUpload(Engine=Yandex,img_path=file_path)\n",
    "#WORKS"
   ]
  },
  {
   "cell_type": "markdown",
   "id": "15bcbab2-a1b4-4a6e-9aff-026ef7a08083",
   "metadata": {
    "tags": []
   },
   "source": [
    "### Sogou"
   ]
  },
  {
   "cell_type": "code",
   "execution_count": 428,
   "id": "3d6f5f5c-9c16-484b-8e58-bb28b5537def",
   "metadata": {},
   "outputs": [],
   "source": [
    "def SogouUpload(Engine:SearchEngine, img_path:str, wait_button_click:int=5):\n",
    "    try:\n",
    "        driver=StartDriver(Engine)\n",
    "        driver.find_element(By.XPATH,\"//input[@type='file']\").send_keys(img_path);\n",
    "        print('ENGINE #',Engine.ID,' Uploaded File, Now Scraping Similar Images...')\n",
    "    except Exception as e :\n",
    "        print(e)\n",
    "        \n",
    "    return driver"
   ]
  },
  {
   "cell_type": "raw",
   "id": "bb7d4336-d74a-482b-99ae-d330438a00e3",
   "metadata": {},
   "source": [
    "driver=SogouUpload(Sogou,img_path=file_path)"
   ]
  },
  {
   "cell_type": "markdown",
   "id": "60cbe148-cb29-441e-a235-2d7a4491a16d",
   "metadata": {
    "tags": []
   },
   "source": [
    "## Upload depending on ID"
   ]
  },
  {
   "cell_type": "code",
   "execution_count": 429,
   "id": "a8dfea33-3a98-449c-b552-958248da443d",
   "metadata": {},
   "outputs": [],
   "source": [
    "def UploadPhoto(Engine:SearchEngine , img_path:str):\n",
    "    print(Engine.ID)\n",
    "    match Engine.ID:\n",
    "        case 0:\n",
    "            \n",
    "            return GoogleUpload(Engine=Engine, img_path=img_path)\n",
    "        \n",
    "        case 1:\n",
    "            \n",
    "            return YandexUpload(Engine=Engine, img_path=img_path)\n",
    "        \n",
    "        case 2:\n",
    "            \n",
    "            return SogouUpload(Engine=Engine, img_path=img_path)\n",
    "\n",
    "        # If an exact match is not confirmed, this last case will be used if provided\n",
    "        case _:\n",
    "            \n",
    "            return \"Something's wrong\""
   ]
  },
  {
   "cell_type": "raw",
   "id": "7d13fc64-81a7-4474-94ae-5b82509b7158",
   "metadata": {},
   "source": [
    "### Test Script\n",
    "for search_engine in search_engines:\n",
    "    a=UploadPhoto(search_engine, img_path=filePath)\n",
    "    print(a)\n",
    "\"\"\"\n",
    "Works\n",
    "\"\"\""
   ]
  },
  {
   "cell_type": "markdown",
   "id": "828c5f32-705d-405f-90af-467678d5cfbf",
   "metadata": {
    "tags": []
   },
   "source": [
    "## Scroll to end"
   ]
  },
  {
   "cell_type": "code",
   "execution_count": 430,
   "id": "f2354943-b791-428a-a179-e3caa836c527",
   "metadata": {},
   "outputs": [],
   "source": [
    "def scroll_to_end(wd,sleep:int=5):\n",
    "    wd.execute_script(\"window.scrollTo(0, document.body.scrollHeight);\")\n",
    "    wd.implicitly_wait(sleep)\n",
    "    \n",
    "                    ##############################################################################################################"
   ]
  },
  {
   "cell_type": "raw",
   "id": "ac65a43c-a632-4ff1-9908-45253460b07e",
   "metadata": {},
   "source": [
    "### Test script\n",
    "file_path = '/home/cescollino/Documents/ETS/MAITRISE/Dataset/cat.jpg'\n",
    "wd = GoogleUpload(Engine=Google,img_path=file_path)\n",
    "scroll_to_end(wd)\n",
    "\"\"\"\n",
    "Works\n",
    "\"\"\""
   ]
  },
  {
   "cell_type": "raw",
   "id": "d9814125",
   "metadata": {},
   "source": [
    "### Test script\n",
    "file_path = '/home/cescollino/Documents/ETS/MAITRISE/Dataset/cat.jpg'\n",
    "wd = GoogleUpload(Engine=Google,img_path=file_path)\n",
    "scroll_to_end(wd)\n",
    "\"\"\"\n",
    "Works\n",
    "\"\"\""
   ]
  },
  {
   "cell_type": "markdown",
   "id": "a978a96b-6883-4544-9260-670952f3773c",
   "metadata": {
    "tags": []
   },
   "source": [
    "## Fetching Image Binaries"
   ]
  },
  {
   "cell_type": "code",
   "execution_count": 431,
   "id": "bfd572b4-262f-4823-86a1-25f008688aa5",
   "metadata": {},
   "outputs": [],
   "source": [
    "def Fetch_Image_Data(actual_image):\n",
    "    try:\n",
    "        \n",
    "        ##FETCHING LINK##\n",
    "        #Make a request to a web page, and return the status code\n",
    "        #actual_image is a URL\n",
    "        image_content = requests.get(actual_image.get_attribute('src')).content\n",
    "        return image_content\n",
    "        \n",
    "    except Exception as e:\n",
    "        \n",
    "        print(f\"ERROR - Could not download {actual_image.get_attribute('src')} - {e}\")\n",
    "        return e\n",
    "                    ##############################################################################################################"
   ]
  },
  {
   "cell_type": "markdown",
   "id": "71d875f5-5af5-4754-b050-efaa887bd8fc",
   "metadata": {
    "tags": []
   },
   "source": [
    "### Test Script\n",
    "Dummy=Google\n",
    "Dummy.URL=\"https://unsplash.com/photos/37Dw48o0fb4\"\n",
    "driver = StartDriver(Dummy)\n",
    "\n",
    "element_css = 'div.omfF5:nth-child(3) > div:nth-child(3) > div:nth-child(1) > img:nth-child(1)'\n",
    "element = driver.find_element(By.CSS_SELECTOR, element_css)\n",
    "\n",
    "result = Fetch_Image_Data(element)\n",
    "\n",
    "print(type(result))\n",
    "result = io.BytesIO(result)\n",
    "photo = PIL.Image.open(result)\n",
    "photo.show()\n",
    "\n",
    "\"\"\"\n",
    "Works\n",
    "\"\"\""
   ]
  },
  {
   "cell_type": "markdown",
   "id": "4c5e4720-096e-47fd-b53d-a43945d692de",
   "metadata": {
    "tags": []
   },
   "source": [
    "## Saving Image and Link information"
   ]
  },
  {
   "cell_type": "code",
   "execution_count": 432,
   "id": "6250cb79-810b-4f19-b0d0-d9001207e30e",
   "metadata": {
    "tags": []
   },
   "outputs": [],
   "source": [
    "def Save_Img(actual_image, target_folder:str,ID:int):\n",
    "    \n",
    "    if actual_image.get_attribute('src') and 'http' in actual_image.get_attribute('src'):\n",
    "        \n",
    "        try:\n",
    "            ##NUMBER##\n",
    "            n = open(os.path.join(target_folder,'count.txt'),'r')\n",
    "            counts = n.readlines()\n",
    "            n.close()\n",
    "            count = int(counts[ID][:-1])+1\n",
    "            \n",
    "            \n",
    "            ##IMAGE##\n",
    "            path=os.path.join(target_folder, 'jpg' + \"_\" + str(count) + \"_EngineID_\"+ str(ID) +\".jpg\")\n",
    "            print(path)\n",
    "            f = open(path, 'wb')\n",
    "            f.write(Fetch_Image_Data(actual_image))\n",
    "            f.close()\n",
    "            counts[ID]=str(count)+('\\n')\n",
    "            \n",
    "            n = open(os.path.join(target_folder,'count.txt'),'w')\n",
    "            n.writelines(counts)\n",
    "            n.close()\n",
    "            ##LINK##\n",
    "            t = open(os.path.join(target_folder, \"links_ENGINEID_\"+str(ID)+\".txt\"), 'a', encoding=\"utf-8\")\n",
    "            t.write(actual_image.get_attribute('src')+'\\n')\n",
    "            t.close()\n",
    "\n",
    "            print(f\"SUCCESS - saved {actual_image.get_attribute('src')} - as {count} from DRIVER ID : {ID}\")\n",
    "\n",
    "        except Exception as e:\n",
    "\n",
    "            print(f\"ERROR - Could not save {actual_image.get_attribute('src')} - {e} DRIVER ID: {ID}\")\n",
    "            \n",
    "        return 1\n",
    "    else:\n",
    "        print(\"Invalid Image Attribute, cannot save\")\n",
    "        return 0               \n",
    "                    ##############################################################################################################"
   ]
  },
  {
   "cell_type": "raw",
   "id": "58ce54a6-5910-4f39-8d5a-de0b52d1f3ff",
   "metadata": {},
   "source": [
    "## TEST\n",
    "path='/home/cescollino/dummy'\n",
    "Dummy=Google\n",
    "Dummy.URL=\"https://unsplash.com/photos/37Dw48o0fb4\"\n",
    "driver = StartDriver(Dummy)\n",
    "\n",
    "element_css = 'div.omfF5:nth-child(3) > div:nth-child(3) > div:nth-child(1) > img:nth-child(1)'\n",
    "element = driver.find_element(By.CSS_SELECTOR, element_css)\n",
    "\n",
    "Save_Img(actual_image=element,target_folder=path, ID=0)\n",
    "\n",
    "\n",
    "driver.quit()\n",
    "\n",
    "## WORKS"
   ]
  },
  {
   "cell_type": "markdown",
   "id": "f797d15c-65fa-4c9c-9df4-85e54d7a65e8",
   "metadata": {
    "tags": []
   },
   "source": [
    "## Iterating through all the images, clicking and saving\n",
    "\n",
    "Note: # \"//div[@class='the class I want']/img\" or \"//a[@class='the class I want']/img\" navigates to image inside div or anchor"
   ]
  },
  {
   "cell_type": "code",
   "execution_count": 433,
   "id": "4e2a509b-d8da-44ad-8614-9bf542f5770a",
   "metadata": {
    "tags": []
   },
   "outputs": [],
   "source": [
    "def FindResults(nav,searchengine):\n",
    "    scroll_to_end(nav)\n",
    "    thumbnail_results = nav.find_elements(*searchengine.thumbnail)\n",
    "    #print(len(thumbnail_results))\n",
    "    return thumbnail_results"
   ]
  },
  {
   "cell_type": "code",
   "execution_count": 434,
   "id": "8d68943a-6806-403e-a16d-fe137d54e74b",
   "metadata": {
    "tags": []
   },
   "outputs": [],
   "source": [
    "def ClickLoadMore(nav,engine:SearchEngine):\n",
    "    load_more_button = nav.find_elements(*engine.load)\n",
    "    \n",
    "    #if load_more_button:\n",
    "    #    nav.execute_script(\"document.querySelector('\"+engine.load[1]+\"').click();\")"
   ]
  },
  {
   "cell_type": "markdown",
   "id": "9accb8ad-d439-42c3-b122-f716399c39c6",
   "metadata": {
    "tags": []
   },
   "source": [
    "## Google Scraping"
   ]
  },
  {
   "cell_type": "code",
   "execution_count": 435,
   "id": "97a2d045-7caa-44cf-9cde-3dfec8281e8c",
   "metadata": {
    "tags": []
   },
   "outputs": [],
   "source": [
    "def GoogleScrape(driver,engine:SearchEngine,count:int,path:str,max_count:int, results_start:int):\n",
    "    with tqdm(total=max_count) as pbar:\n",
    "        while count < max_count:\n",
    "\n",
    "            thumbnails=FindResults(driver,engine)\n",
    "            number_results=len(thumbnails)\n",
    "            print(f\"Found: {number_results} search results. Extracting links from {results_start}:{number_results}\")\n",
    "\n",
    "            for thumb in thumbnails[results_start:number_results]:\n",
    "\n",
    "                try:\n",
    "                    thumb.click()\n",
    "                    image=driver.find_element(*engine.image)\n",
    "                    time.sleep(1)\n",
    "                    count=count+Save_Img(actual_image=image,target_folder=path, ID = engine.ID)\n",
    "\n",
    "                except Exception as e:\n",
    "                    print(e)\n",
    "\n",
    "            if count >= max_count:\n",
    "                    print(f\"Found: {count} image links, done!\")\n",
    "                    break\n",
    "\n",
    "            else:\n",
    "                    print(\"Found:\",count, \"image links, looking for more ...\")\n",
    "                    time.sleep(2)\n",
    "\n",
    "            scroll_to_end(driver)\n",
    "            results_start = len(thumbnails)\n",
    "            pbar.update(count)\n",
    "    return count"
   ]
  },
  {
   "cell_type": "markdown",
   "id": "438e4b35-31f4-4428-a612-f9037adce151",
   "metadata": {
    "tags": []
   },
   "source": [
    "## Yandex Scraping"
   ]
  },
  {
   "cell_type": "code",
   "execution_count": 436,
   "id": "d84f9d12-5237-4e3b-a4cf-fab427fb4084",
   "metadata": {
    "tags": []
   },
   "outputs": [],
   "source": [
    "def YandexScrape(driver,engine:SearchEngine,count:int,path:str,max_count:int, results_start:int):\n",
    "    with tqdm(total=max_count) as pbar:\n",
    "        while count < max_count:\n",
    "            driver.switch_to.window(driver.window_handles[0])\n",
    "            thumbnails=FindResults(driver,engine)\n",
    "            number_results=len(thumbnails)\n",
    "            print(f\"Found: {number_results} search results. Extracting links from {results_start}:{number_results}\")\n",
    "\n",
    "            for thumb in thumbnails[results_start:number_results]:\n",
    "\n",
    "                try:\n",
    "                    driver.switch_to.window(driver.window_handles[0])\n",
    "                    time.sleep(1)\n",
    "                    thumb.click()\n",
    "                    image=driver.find_element(*engine.image)#(By.XPATH,\"//div[@class='MMImageContainer']/img\")\n",
    "                    time.sleep(1)\n",
    "                    count=count+Save_Img(actual_image=image,target_folder=path,ID=engine.ID)\n",
    "                    driver.back()\n",
    "                    driver.switch_to.window(driver.window_handles[0])\n",
    "\n",
    "                except Exception as e:\n",
    "                    print(e)\n",
    "\n",
    "            if count >= max_count:\n",
    "                    print(f\"Found: {count} image links, done!\")\n",
    "                    break\n",
    "\n",
    "            else:\n",
    "                    print(\"Found:\",count, \"image links, looking for more ...\")\n",
    "                    time.sleep(2)\n",
    "\n",
    "            scroll_to_end(driver)\n",
    "            results_start = len(thumbnails)\n",
    "            pbar.update(count)\n",
    "    return count\n",
    "\n",
    "## WORKS"
   ]
  },
  {
   "cell_type": "markdown",
   "id": "fe4b1961-ac17-4c62-bdc3-3248bbee7813",
   "metadata": {
    "tags": []
   },
   "source": [
    "## Sogou Scraping"
   ]
  },
  {
   "cell_type": "code",
   "execution_count": 437,
   "id": "8c4b4b7f-89b9-4fef-b0e8-988f8c5db89b",
   "metadata": {
    "tags": []
   },
   "outputs": [],
   "source": [
    "def SogouScrape(driver,engine:SearchEngine,count:int,path:str,max_count:int, results_start:int):\n",
    "    with tqdm(total=max_count) as pbar:\n",
    "        while count < max_count:\n",
    "\n",
    "            thumbnails=FindResults(driver,engine)\n",
    "            number_results=len(thumbnails)\n",
    "            print(f\"Found: {number_results} search results. Extracting links from {results_start}:{number_results}\")\n",
    "\n",
    "            for thumb in thumbnails[results_start:number_results]:\n",
    "\n",
    "                try:\n",
    "                    thumb.click()\n",
    "                    driver.switch_to.window(driver.window_handles[1])\n",
    "                    image=driver.find_element(*engine.image)\n",
    "                    time.sleep(1)\n",
    "                    count=count+Save_Img(actual_image=image,target_folder=path,ID=engine.ID)\n",
    "                    driver.close()\n",
    "\n",
    "                except Exception as e:\n",
    "                    print(e)\n",
    "\n",
    "                driver.switch_to.window(driver.window_handles[0])\n",
    "\n",
    "            if count >= max_count:\n",
    "                    print(f\"Found: {count} image links, done!\")\n",
    "                    break\n",
    "\n",
    "            else:\n",
    "                    print(\"Found:\",count, \"image links, looking for more ...\")\n",
    "                    time.sleep(2)\n",
    "\n",
    "            scroll_to_end(driver)\n",
    "            results_start = len(thumbnails)\n",
    "            pbar.update(count)\n",
    "    return count\n"
   ]
  },
  {
   "cell_type": "code",
   "execution_count": 438,
   "id": "613b1472-d7b0-4e6a-8bb1-ec351e624404",
   "metadata": {
    "tags": []
   },
   "outputs": [],
   "source": [
    "def Scrape(engine:SearchEngine,img_path:str,result_path:str,max_count:int=100):\n",
    "    driver = UploadPhoto(engine, img_path=img_path)\n",
    "    count=0\n",
    "    results_start=0\n",
    "    print(\"ID:\",engine.ID,\"count:\",count,\"max:\", max_count)\n",
    "    match engine.ID:\n",
    "        case 0:\n",
    "            GoogleScrape(driver=driver,\n",
    "                        engine=engine,\n",
    "                        count=count,\n",
    "                        path=result_path,\n",
    "                        max_count=max_count,\n",
    "                        results_start=results_start)\n",
    "        case 1:\n",
    "            YandexScrape(driver=driver,\n",
    "                        engine=engine,\n",
    "                        count=count,\n",
    "                        path=result_path,\n",
    "                        max_count=max_count,\n",
    "                        results_start=results_start)\n",
    "        case 2:\n",
    "            SogouScrape(driver=driver,\n",
    "                        engine=engine,\n",
    "                        count=count,\n",
    "                        path=result_path,\n",
    "                        max_count=max_count,\n",
    "                        results_start=results_start)\n",
    "        case other:\n",
    "            print(\"ERROR, ENGINE ID MISSING\")"
   ]
  },
  {
   "cell_type": "markdown",
   "id": "3e630e0e-40d2-42a0-99f6-4ff0aeecf59b",
   "metadata": {
    "tags": []
   },
   "source": [
    "## Putting everything together"
   ]
  },
  {
   "cell_type": "raw",
   "id": "6487655d-9ad9-4887-bf05-d44fea190039",
   "metadata": {},
   "source": [
    "file_path = '/home/cescollino/Documents/ETS/MAITRISE/Dataset/cat.jpg'\n",
    "destination_path = '/home/cescollino/Documents/ETS/MAITRISE/Dataset/results/final_scrapes'\n",
    "Scrape(Google, file_path,destination_path)"
   ]
  },
  {
   "cell_type": "markdown",
   "id": "191160a4-c0da-4a87-a431-66dcb7ca8058",
   "metadata": {
    "tags": []
   },
   "source": [
    "# Multi-Threading"
   ]
  },
  {
   "cell_type": "code",
   "execution_count": 439,
   "id": "4e49b100-4d7b-4cc9-8e57-28353bc8c167",
   "metadata": {
    "tags": []
   },
   "outputs": [],
   "source": [
    "class myThread (threading.Thread):\n",
    "   def __init__(self, engine:SearchEngine, img_path:str,result_path:str,max_count:int=100):\n",
    "      threading.Thread.__init__(self)\n",
    "      self.engine = engine\n",
    "      self.img_path = img_path\n",
    "      self.result_path = result_path\n",
    "      self.max_count = max_count\n",
    "   def run(self):\n",
    "      Scrape(self.engine,self.img_path,self.result_path,max_count=self.max_count)"
   ]
  },
  {
   "cell_type": "markdown",
   "id": "b622dc45-466b-47f5-8ea7-5fb5134b0c72",
   "metadata": {
    "tags": []
   },
   "source": [
    "# Hardcoded File Paths & Run"
   ]
  },
  {
   "cell_type": "code",
   "execution_count": 440,
   "id": "8f739588-babe-4c35-ab65-1b4d917c347c",
   "metadata": {
    "tags": []
   },
   "outputs": [
    {
     "data": {
      "text/plain": [
       "0"
      ]
     },
     "execution_count": 440,
     "metadata": {},
     "output_type": "execute_result"
    }
   ],
   "source": [
    "file_path = '/home/cescollino/Workspace/Reverse-Image-Search-Scraper/IMAGES/INPUT/1.jpg'\n",
    "destination_path = '/home/cescollino/Workspace/Reverse-Image-Search-Scraper/IMAGES/OUTPUT/'\n",
    "prompts_path = '/home/cescollino/Workspace/Reverse-Image-Search-Scraper/IMAGES/PROMPTS/'\n",
    "\n",
    "files = len(os.listdir(prompts_path)) + 1\n",
    "copy = 'cp ' + file_path + ' ' + prompts_path + 'prompt_' + str(files) +'.jpg'\n",
    "os.system(copy)\n",
    "\n",
    "#result_path= '/home/cescollino/Documents/ETS/MAITRISE/Dataset/Scraped_Dataset/cat/'\n",
    "#result_path = '/home'"
   ]
  },
  {
   "cell_type": "code",
   "execution_count": 441,
   "id": "27e6037f-c0f5-4722-a557-d3c6c0ec8822",
   "metadata": {
    "tags": []
   },
   "outputs": [],
   "source": [
    "#Scrape(Google,file_path,destination_path,max_count=1000) # Yandex Works, Google Works, Sogou Works"
   ]
  },
  {
   "cell_type": "code",
   "execution_count": 446,
   "id": "71f1efdc-ca49-419b-b776-6e289311a749",
   "metadata": {
    "tags": []
   },
   "outputs": [
    {
     "name": "stdout",
     "output_type": "stream",
     "text": [
      "0\n",
      "1\n",
      "2\n",
      "<Response [302]>\n",
      "Chrome Driver # 1  Initialized\n",
      "Chrome Driver # 0  Initialized\n",
      "Chrome Driver # 2  Initialized\n",
      "ENGINE # 2  Uploaded File, Now Scraping Similar Images...\n",
      "ID: 2 count: 0 max: 10000\n"
     ]
    },
    {
     "name": "stderr",
     "output_type": "stream",
     "text": [
      "  0%|                                                                         | 0/10000 [00:00<?, ?it/s]"
     ]
    },
    {
     "name": "stdout",
     "output_type": "stream",
     "text": [
      "ENGINE # 0  Uploaded File, Now Scraping Similar Images...\n",
      "ID: 0 count: 0 max: 10000\n"
     ]
    },
    {
     "name": "stderr",
     "output_type": "stream",
     "text": [
      "  0%|                                                                         | 0/10000 [00:00<?, ?it/s]"
     ]
    },
    {
     "name": "stdout",
     "output_type": "stream",
     "text": [
      "Found: 50 search results. Extracting links from 0:50\n",
      "/home/cescollino/Workspace/Reverse-Image-Search-Scraper/IMAGES/OUTPUT/jpg_753_EngineID_0.jpg\n",
      "ERROR - Could not download https://dictionary.cambridge.org/images/thumb/infant_noun_002_19022.jpg?version=5.0.271 - ('Connection aborted.', RemoteDisconnected('Remote end closed connection without response'))\n",
      "ERROR - Could not save https://dictionary.cambridge.org/images/thumb/infant_noun_002_19022.jpg?version=5.0.271 - a bytes-like object is required, not 'ConnectionError' DRIVER ID: 0\n",
      "Message: element click intercepted: Element <img src=\"data:image/jpeg;base64,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\" data-deferred=\"1\" class=\"rg_i Q4LuWd\" jsname=\"Q4LuWd\" width=\"318\" height=\"159\" alt=\"Infants (0-1 years) | CDC\" data-atf=\"true\" data-iml=\"1111.0999999940395\"> is not clickable at point (216, 79). Other element would receive the click: <span jsslot=\"\" jsname=\"dr7zhc\" class=\"sal6Qd\">...</span>\n",
      "  (Session info: chrome=107.0.5304.87)\n",
      "Stacktrace:\n",
      "#0 0x55f063690463 <unknown>\n",
      "#1 0x55f0634548d8 <unknown>\n",
      "#2 0x55f06349a23b <unknown>\n",
      "#3 0x55f063497a79 <unknown>\n",
      "#4 0x55f063494fe4 <unknown>\n",
      "#5 0x55f063493b21 <unknown>\n",
      "#6 0x55f063486421 <unknown>\n",
      "#7 0x55f0634b3622 <unknown>\n",
      "#8 0x55f063485ba7 <unknown>\n",
      "#9 0x55f0634b378e <unknown>\n",
      "#10 0x55f0634cc30f <unknown>\n",
      "#11 0x55f0634b3443 <unknown>\n",
      "#12 0x55f0634843c5 <unknown>\n",
      "#13 0x55f063485531 <unknown>\n",
      "#14 0x55f0636e2dce <unknown>\n",
      "#15 0x55f0636e6192 <unknown>\n",
      "#16 0x55f0636c793e <unknown>\n",
      "#17 0x55f0636e7103 <unknown>\n",
      "#18 0x55f0636bad85 <unknown>\n",
      "#19 0x55f0637080a8 <unknown>\n",
      "#20 0x55f063708239 <unknown>\n",
      "#21 0x55f063723492 <unknown>\n",
      "#22 0x7f7d1538bb43 <unknown>\n",
      "\n",
      "/home/cescollino/Workspace/Reverse-Image-Search-Scraper/IMAGES/OUTPUT/jpg_753_EngineID_0.jpg\n",
      "SUCCESS - saved https://onlinelibrary.wiley.com/pb-assets/assets/10970355/infant-1565272240657.jpg - as 753 from DRIVER ID : 0\n",
      "/home/cescollino/Workspace/Reverse-Image-Search-Scraper/IMAGES/OUTPUT/jpg_754_EngineID_0.jpg\n",
      "SUCCESS - saved https://www.cdc.gov/ncbddd/childdevelopment/positiveparenting/images/small-baby-blk.jpg?_=24431 - as 754 from DRIVER ID : 0\n",
      "/home/cescollino/Workspace/Reverse-Image-Search-Scraper/IMAGES/OUTPUT/jpg_755_EngineID_0.jpg\n",
      "SUCCESS - saved https://www.beaumont.org/images/default-source/news/happy-infant.jpg?sfvrsn=31ab42ef_0 - as 755 from DRIVER ID : 0\n",
      "/home/cescollino/Workspace/Reverse-Image-Search-Scraper/IMAGES/OUTPUT/jpg_756_EngineID_0.jpg\n",
      "SUCCESS - saved https://cdn.britannica.com/68/78168-004-7B612BBD/babies-diapers.jpg - as 756 from DRIVER ID : 0\n",
      "Found: 24 search results. Extracting links from 0:24\n",
      "/home/cescollino/Workspace/Reverse-Image-Search-Scraper/IMAGES/OUTPUT/jpg_757_EngineID_0.jpg\n",
      "SUCCESS - saved https://d1y8sb8igg2f8e.cloudfront.net/images/Infant.width-800.jpg - as 757 from DRIVER ID : 0\n",
      "Invalid Image Attribute, cannot save\n",
      "Invalid Image Attribute, cannot save\n",
      "Message: \n",
      "Stacktrace:\n",
      "#0 0x558083d5a463 <unknown>\n",
      "#1 0x558083b1e8d8 <unknown>\n",
      "#2 0x558083b5c43a <unknown>\n",
      "#3 0x558083b5c651 <unknown>\n",
      "#4 0x558083b987a4 <unknown>\n",
      "#5 0x558083b7d64d <unknown>\n",
      "#6 0x558083b9630f <unknown>\n",
      "#7 0x558083b7d443 <unknown>\n",
      "#8 0x558083b4e3c5 <unknown>\n",
      "#9 0x558083b4f531 <unknown>\n",
      "#10 0x558083dacdce <unknown>\n",
      "#11 0x558083db0192 <unknown>\n",
      "#12 0x558083d9193e <unknown>\n",
      "#13 0x558083db1103 <unknown>\n",
      "#14 0x558083d84d85 <unknown>\n",
      "#15 0x558083dd20a8 <unknown>\n",
      "#16 0x558083dd2239 <unknown>\n",
      "#17 0x558083ded492 <unknown>\n",
      "#18 0x7f4d7c844b43 <unknown>\n",
      "\n",
      "ID: 1 count: 0 max: 10000\n"
     ]
    },
    {
     "name": "stderr",
     "output_type": "stream",
     "text": [
      "  0%|                                                                         | 0/10000 [00:00<?, ?it/s]"
     ]
    },
    {
     "name": "stdout",
     "output_type": "stream",
     "text": [
      "Invalid Image Attribute, cannot save\n",
      "/home/cescollino/Workspace/Reverse-Image-Search-Scraper/IMAGES/OUTPUT/jpg_1_EngineID_2.jpg\n",
      "Invalid Image Attribute, cannot save\n",
      "/home/cescollino/Workspace/Reverse-Image-Search-Scraper/IMAGES/OUTPUT/jpg_758_EngineID_0.jpg\n",
      "SUCCESS - saved https://i03piccdn.sogoucdn.com/73dd851310ee0319 - as 1 from DRIVER ID : 2\n",
      "SUCCESS - saved https://encrypted-tbn0.gstatic.com/images?q=tbn:ANd9GcS1ylJ3zEh8qFYtHJhgfvijVDZzcIHPlHR7FwU5ZKYMd3QOscgW-i1Lpisdt4f_ThcAhuI&usqp=CAU - as 758 from DRIVER ID : 0\n",
      "Invalid Image Attribute, cannot save\n",
      "Found: 0 search results. Extracting links from 0:0\n",
      "Found: 0 image links, looking for more ...\n",
      "Invalid Image Attribute, cannot save\n",
      "Invalid Image Attribute, cannot save\n",
      "/home/cescollino/Workspace/Reverse-Image-Search-Scraper/IMAGES/OUTPUT/jpg_1_EngineID_2.jpg\n"
     ]
    },
    {
     "name": "stderr",
     "output_type": "stream",
     "text": [
      "  0%|                                                                         | 0/10000 [00:07<?, ?it/s]"
     ]
    },
    {
     "name": "stdout",
     "output_type": "stream",
     "text": [
      "Invalid Image Attribute, cannot save\n",
      "SUCCESS - saved https://i03piccdn.sogoucdn.com/fef500db172b2af2 - as 1 from DRIVER ID : 2\n",
      "Invalid Image Attribute, cannot save\n",
      "Invalid Image Attribute, cannot save\n",
      "Invalid Image Attribute, cannot save\n",
      "Invalid Image Attribute, cannot save\n",
      "Found: 0 search results. Extracting links from 0:0\n",
      "Found: 0 image links, looking for more ...\n",
      "/home/cescollino/Workspace/Reverse-Image-Search-Scraper/IMAGES/OUTPUT/jpg_2_EngineID_2.jpg\n",
      "/home/cescollino/Workspace/Reverse-Image-Search-Scraper/IMAGES/OUTPUT/jpg_759_EngineID_0.jpg\n",
      "SUCCESS - saved https://encrypted-tbn0.gstatic.com/images?q=tbn:ANd9GcT26AKfT_gh_wZ6CAqzpU_bT68DeHGOGWCWdw&usqp=CAU - as 759 from DRIVER ID : 0\n",
      "SUCCESS - saved https://i03piccdn.sogoucdn.com/4597db30581e90d9 - as 2 from DRIVER ID : 2\n",
      "/home/cescollino/Workspace/Reverse-Image-Search-Scraper/IMAGES/OUTPUT/jpg_759_EngineID_0.jpg\n"
     ]
    },
    {
     "name": "stderr",
     "output_type": "stream",
     "text": [
      "  0%|                                                                         | 0/10000 [00:14<?, ?it/s]"
     ]
    },
    {
     "name": "stdout",
     "output_type": "stream",
     "text": [
      "SUCCESS - saved https://encrypted-tbn0.gstatic.com/images?q=tbn:ANd9GcTLSrcSix3GkPPZLiUaOwSnNii1S0FUzuxvZQ&usqp=CAU - as 759 from DRIVER ID : 0\n",
      "/home/cescollino/Workspace/Reverse-Image-Search-Scraper/IMAGES/OUTPUT/jpg_760_EngineID_0.jpg\n",
      "SUCCESS - saved https://encrypted-tbn0.gstatic.com/images?q=tbn:ANd9GcQAmO3-TK-SjbpltgtnUlUM127ZBRY_KkjsRw&usqp=CAU - as 760 from DRIVER ID : 0\n",
      "/home/cescollino/Workspace/Reverse-Image-Search-Scraper/IMAGES/OUTPUT/jpg_761_EngineID_0.jpg\n",
      "SUCCESS - saved https://encrypted-tbn0.gstatic.com/images?q=tbn:ANd9GcTRgNjxyttk6T6Jgm43Ec5rn9mi9tzRGSXfCQ&usqp=CAU - as 761 from DRIVER ID : 0\n",
      "/home/cescollino/Workspace/Reverse-Image-Search-Scraper/IMAGES/OUTPUT/jpg_762_EngineID_0.jpg\n",
      "SUCCESS - saved https://encrypted-tbn0.gstatic.com/images?q=tbn:ANd9GcTEYxakY-_2ekcQOxBtaHosKYHbTaivT75LoQ&usqp=CAU - as 762 from DRIVER ID : 0\n",
      "/home/cescollino/Workspace/Reverse-Image-Search-Scraper/IMAGES/OUTPUT/jpg_3_EngineID_2.jpg\n",
      "/home/cescollino/Workspace/Reverse-Image-Search-Scraper/IMAGES/OUTPUT/jpg_763_EngineID_0.jpg\n",
      "Found: 0 search results. Extracting links from 0:0\n",
      "Found: 0 image links, looking for more ...\n",
      "SUCCESS - saved https://encrypted-tbn0.gstatic.com/images?q=tbn:ANd9GcTAlsdtFMxTfUZ48b0GYUqEdjxrtnynvF0c8A&usqp=CAU - as 763 from DRIVER ID : 0\n",
      "SUCCESS - saved https://i01piccdn.sogoucdn.com/98782742e1c11c51 - as 3 from DRIVER ID : 2\n",
      "/home/cescollino/Workspace/Reverse-Image-Search-Scraper/IMAGES/OUTPUT/jpg_763_EngineID_0.jpg\n",
      "SUCCESS - saved https://encrypted-tbn0.gstatic.com/images?q=tbn:ANd9GcTg-OytTpNQujxCFuPqdlMIJmbES63rIKJ7kg&usqp=CAU - as 763 from DRIVER ID : 0\n"
     ]
    },
    {
     "name": "stderr",
     "output_type": "stream",
     "text": [
      "  0%|                                                                         | 0/10000 [00:21<?, ?it/s]"
     ]
    },
    {
     "name": "stdout",
     "output_type": "stream",
     "text": [
      "/home/cescollino/Workspace/Reverse-Image-Search-Scraper/IMAGES/OUTPUT/jpg_4_EngineID_2.jpg\n",
      "SUCCESS - saved https://i03piccdn.sogoucdn.com/0dc40a42ef459a9c - as 4 from DRIVER ID : 2\n",
      "Message: element not interactable\n",
      "  (Session info: chrome=107.0.5304.87)\n",
      "Stacktrace:\n",
      "#0 0x55f063690463 <unknown>\n",
      "#1 0x55f06345475a <unknown>\n",
      "#2 0x55f0634936a3 <unknown>\n",
      "#3 0x55f063486421 <unknown>\n",
      "#4 0x55f0634b3622 <unknown>\n",
      "#5 0x55f063485ba7 <unknown>\n",
      "#6 0x55f0634b378e <unknown>\n",
      "#7 0x55f0634cc30f <unknown>\n",
      "#8 0x55f0634b3443 <unknown>\n",
      "#9 0x55f0634843c5 <unknown>\n",
      "#10 0x55f063485531 <unknown>\n",
      "#11 0x55f0636e2dce <unknown>\n",
      "#12 0x55f0636e6192 <unknown>\n",
      "#13 0x55f0636c793e <unknown>\n",
      "#14 0x55f0636e7103 <unknown>\n",
      "#15 0x55f0636bad85 <unknown>\n",
      "#16 0x55f0637080a8 <unknown>\n",
      "#17 0x55f063708239 <unknown>\n",
      "#18 0x55f063723492 <unknown>\n",
      "#19 0x7f7d1538bb43 <unknown>\n",
      "\n",
      "Found: 0 search results. Extracting links from 0:0\n",
      "Found: 0 image links, looking for more ...\n"
     ]
    },
    {
     "name": "stderr",
     "output_type": "stream",
     "text": [
      "  0%|                                                                         | 0/10000 [00:39<?, ?it/s]\n",
      "  0%|                                                                         | 0/10000 [00:26<?, ?it/s]\n",
      "Process Process-2:\n",
      "  0%|                                                                         | 0/10000 [00:39<?, ?it/s]Traceback (most recent call last):\n",
      "  File \"/usr/lib/python3.10/multiprocessing/process.py\", line 314, in _bootstrap\n",
      "    self.run()\n",
      "  File \"/usr/lib/python3.10/multiprocessing/process.py\", line 108, in run\n",
      "    self._target(*self._args, **self._kwargs)\n",
      "Process Process-3:\n",
      "Traceback (most recent call last):\n"
     ]
    },
    {
     "ename": "KeyboardInterrupt",
     "evalue": "",
     "output_type": "error",
     "traceback": [
      "\u001b[0;31m---------------------------------------------------------------------------\u001b[0m",
      "\u001b[0;31mKeyboardInterrupt\u001b[0m                         Traceback (most recent call last)",
      "Cell \u001b[0;32mIn [446], line 19\u001b[0m\n\u001b[1;32m     16\u001b[0m     thread\u001b[38;5;241m.\u001b[39mstart()\n\u001b[1;32m     18\u001b[0m \u001b[38;5;28;01mfor\u001b[39;00m thread \u001b[38;5;129;01min\u001b[39;00m thread_list:\n\u001b[0;32m---> 19\u001b[0m     \u001b[43mthread\u001b[49m\u001b[38;5;241;43m.\u001b[39;49m\u001b[43mjoin\u001b[49m\u001b[43m(\u001b[49m\u001b[43m)\u001b[49m\n",
      "File \u001b[0;32m/usr/lib/python3.10/multiprocessing/process.py:149\u001b[0m, in \u001b[0;36mBaseProcess.join\u001b[0;34m(self, timeout)\u001b[0m\n\u001b[1;32m    147\u001b[0m \u001b[38;5;28;01massert\u001b[39;00m \u001b[38;5;28mself\u001b[39m\u001b[38;5;241m.\u001b[39m_parent_pid \u001b[38;5;241m==\u001b[39m os\u001b[38;5;241m.\u001b[39mgetpid(), \u001b[38;5;124m'\u001b[39m\u001b[38;5;124mcan only join a child process\u001b[39m\u001b[38;5;124m'\u001b[39m\n\u001b[1;32m    148\u001b[0m \u001b[38;5;28;01massert\u001b[39;00m \u001b[38;5;28mself\u001b[39m\u001b[38;5;241m.\u001b[39m_popen \u001b[38;5;129;01mis\u001b[39;00m \u001b[38;5;129;01mnot\u001b[39;00m \u001b[38;5;28;01mNone\u001b[39;00m, \u001b[38;5;124m'\u001b[39m\u001b[38;5;124mcan only join a started process\u001b[39m\u001b[38;5;124m'\u001b[39m\n\u001b[0;32m--> 149\u001b[0m res \u001b[38;5;241m=\u001b[39m \u001b[38;5;28;43mself\u001b[39;49m\u001b[38;5;241;43m.\u001b[39;49m\u001b[43m_popen\u001b[49m\u001b[38;5;241;43m.\u001b[39;49m\u001b[43mwait\u001b[49m\u001b[43m(\u001b[49m\u001b[43mtimeout\u001b[49m\u001b[43m)\u001b[49m\n\u001b[1;32m    150\u001b[0m \u001b[38;5;28;01mif\u001b[39;00m res \u001b[38;5;129;01mis\u001b[39;00m \u001b[38;5;129;01mnot\u001b[39;00m \u001b[38;5;28;01mNone\u001b[39;00m:\n\u001b[1;32m    151\u001b[0m     _children\u001b[38;5;241m.\u001b[39mdiscard(\u001b[38;5;28mself\u001b[39m)\n",
      "File \u001b[0;32m/usr/lib/python3.10/multiprocessing/popen_fork.py:43\u001b[0m, in \u001b[0;36mPopen.wait\u001b[0;34m(self, timeout)\u001b[0m\n\u001b[1;32m     41\u001b[0m             \u001b[38;5;28;01mreturn\u001b[39;00m \u001b[38;5;28;01mNone\u001b[39;00m\n\u001b[1;32m     42\u001b[0m     \u001b[38;5;66;03m# This shouldn't block if wait() returned successfully.\u001b[39;00m\n\u001b[0;32m---> 43\u001b[0m     \u001b[38;5;28;01mreturn\u001b[39;00m \u001b[38;5;28;43mself\u001b[39;49m\u001b[38;5;241;43m.\u001b[39;49m\u001b[43mpoll\u001b[49m\u001b[43m(\u001b[49m\u001b[43mos\u001b[49m\u001b[38;5;241;43m.\u001b[39;49m\u001b[43mWNOHANG\u001b[49m\u001b[43m \u001b[49m\u001b[38;5;28;43;01mif\u001b[39;49;00m\u001b[43m \u001b[49m\u001b[43mtimeout\u001b[49m\u001b[43m \u001b[49m\u001b[38;5;241;43m==\u001b[39;49m\u001b[43m \u001b[49m\u001b[38;5;241;43m0.0\u001b[39;49m\u001b[43m \u001b[49m\u001b[38;5;28;43;01melse\u001b[39;49;00m\u001b[43m \u001b[49m\u001b[38;5;241;43m0\u001b[39;49m\u001b[43m)\u001b[49m\n\u001b[1;32m     44\u001b[0m \u001b[38;5;28;01mreturn\u001b[39;00m \u001b[38;5;28mself\u001b[39m\u001b[38;5;241m.\u001b[39mreturncode\n",
      "File \u001b[0;32m/usr/lib/python3.10/multiprocessing/popen_fork.py:27\u001b[0m, in \u001b[0;36mPopen.poll\u001b[0;34m(self, flag)\u001b[0m\n\u001b[1;32m     25\u001b[0m \u001b[38;5;28;01mif\u001b[39;00m \u001b[38;5;28mself\u001b[39m\u001b[38;5;241m.\u001b[39mreturncode \u001b[38;5;129;01mis\u001b[39;00m \u001b[38;5;28;01mNone\u001b[39;00m:\n\u001b[1;32m     26\u001b[0m     \u001b[38;5;28;01mtry\u001b[39;00m:\n\u001b[0;32m---> 27\u001b[0m         pid, sts \u001b[38;5;241m=\u001b[39m \u001b[43mos\u001b[49m\u001b[38;5;241;43m.\u001b[39;49m\u001b[43mwaitpid\u001b[49m\u001b[43m(\u001b[49m\u001b[38;5;28;43mself\u001b[39;49m\u001b[38;5;241;43m.\u001b[39;49m\u001b[43mpid\u001b[49m\u001b[43m,\u001b[49m\u001b[43m \u001b[49m\u001b[43mflag\u001b[49m\u001b[43m)\u001b[49m\n\u001b[1;32m     28\u001b[0m     \u001b[38;5;28;01mexcept\u001b[39;00m \u001b[38;5;167;01mOSError\u001b[39;00m:\n\u001b[1;32m     29\u001b[0m         \u001b[38;5;66;03m# Child process not yet created. See #1731717\u001b[39;00m\n\u001b[1;32m     30\u001b[0m         \u001b[38;5;66;03m# e.errno == errno.ECHILD == 10\u001b[39;00m\n\u001b[1;32m     31\u001b[0m         \u001b[38;5;28;01mreturn\u001b[39;00m \u001b[38;5;28;01mNone\u001b[39;00m\n",
      "\u001b[0;31mKeyboardInterrupt\u001b[0m: "
     ]
    },
    {
     "name": "stderr",
     "output_type": "stream",
     "text": [
      "  File \"/usr/lib/python3.10/multiprocessing/process.py\", line 314, in _bootstrap\n",
      "    self.run()\n",
      "  File \"/usr/lib/python3.10/multiprocessing/process.py\", line 108, in run\n",
      "    self._target(*self._args, **self._kwargs)\n",
      "  File \"/tmp/ipykernel_326413/3908903804.py\", line 22, in Scrape\n",
      "    SogouScrape(driver=driver,\n",
      "\n",
      "  File \"/tmp/ipykernel_326413/3600530171.py\", line 14, in SogouScrape\n",
      "    image=driver.find_element(*engine.image)\n",
      "  File \"/home/cescollino/Workspace/Reverse-Image-Search-Scraper/scraper/lib/python3.10/site-packages/selenium/webdriver/remote/webdriver.py\", line 856, in find_element\n",
      "    return self.execute(Command.FIND_ELEMENT, {\n",
      "  File \"/tmp/ipykernel_326413/3908903804.py\", line 15, in Scrape\n",
      "    YandexScrape(driver=driver,\n",
      "Process Process-1:\n",
      "  File \"/home/cescollino/Workspace/Reverse-Image-Search-Scraper/scraper/lib/python3.10/site-packages/selenium/webdriver/remote/webdriver.py\", line 427, in execute\n",
      "    response = self.command_executor.execute(driver_command, params)\n",
      "  File \"/tmp/ipykernel_326413/3573290380.py\", line 30, in YandexScrape\n",
      "    time.sleep(2)\n",
      "  File \"/home/cescollino/Workspace/Reverse-Image-Search-Scraper/scraper/lib/python3.10/site-packages/selenium/webdriver/remote/remote_connection.py\", line 344, in execute\n",
      "    return self._request(command_info[0], url, body=data)\n",
      "KeyboardInterrupt\n",
      "  File \"/home/cescollino/Workspace/Reverse-Image-Search-Scraper/scraper/lib/python3.10/site-packages/selenium/webdriver/remote/remote_connection.py\", line 366, in _request\n",
      "    response = self._conn.request(method, url, body=body, headers=headers)\n",
      "  File \"/home/cescollino/Workspace/Reverse-Image-Search-Scraper/scraper/lib/python3.10/site-packages/urllib3/request.py\", line 78, in request\n",
      "    return self.request_encode_body(\n",
      "Traceback (most recent call last):\n",
      "  File \"/home/cescollino/Workspace/Reverse-Image-Search-Scraper/scraper/lib/python3.10/site-packages/urllib3/request.py\", line 170, in request_encode_body\n",
      "    return self.urlopen(method, url, **extra_kw)\n",
      "  File \"/home/cescollino/Workspace/Reverse-Image-Search-Scraper/scraper/lib/python3.10/site-packages/urllib3/poolmanager.py\", line 376, in urlopen\n",
      "    response = conn.urlopen(method, u.request_uri, **kw)\n",
      "  File \"/usr/lib/python3.10/multiprocessing/process.py\", line 314, in _bootstrap\n",
      "    self.run()\n",
      "  File \"/home/cescollino/Workspace/Reverse-Image-Search-Scraper/scraper/lib/python3.10/site-packages/urllib3/connectionpool.py\", line 703, in urlopen\n",
      "    httplib_response = self._make_request(\n",
      "  File \"/usr/lib/python3.10/multiprocessing/process.py\", line 108, in run\n",
      "    self._target(*self._args, **self._kwargs)\n",
      "  File \"/home/cescollino/Workspace/Reverse-Image-Search-Scraper/scraper/lib/python3.10/site-packages/urllib3/connectionpool.py\", line 449, in _make_request\n",
      "    six.raise_from(e, None)\n",
      "  File \"/tmp/ipykernel_326413/3908903804.py\", line 8, in Scrape\n",
      "    GoogleScrape(driver=driver,\n",
      "  File \"<string>\", line 3, in raise_from\n",
      "  File \"/tmp/ipykernel_326413/3227191100.py\", line 12, in GoogleScrape\n",
      "    thumb.click()\n",
      "  File \"/home/cescollino/Workspace/Reverse-Image-Search-Scraper/scraper/lib/python3.10/site-packages/urllib3/connectionpool.py\", line 444, in _make_request\n",
      "    httplib_response = conn.getresponse()\n",
      "  File \"/home/cescollino/Workspace/Reverse-Image-Search-Scraper/scraper/lib/python3.10/site-packages/selenium/webdriver/remote/webelement.py\", line 88, in click\n",
      "    self._execute(Command.CLICK_ELEMENT)\n",
      "  File \"/usr/lib/python3.10/http/client.py\", line 1374, in getresponse\n",
      "    response.begin()\n",
      "  File \"/home/cescollino/Workspace/Reverse-Image-Search-Scraper/scraper/lib/python3.10/site-packages/selenium/webdriver/remote/webelement.py\", line 396, in _execute\n",
      "    return self._parent.execute(command, params)\n",
      "  File \"/usr/lib/python3.10/http/client.py\", line 318, in begin\n",
      "    version, status, reason = self._read_status()\n",
      "  File \"/usr/lib/python3.10/http/client.py\", line 279, in _read_status\n",
      "    line = str(self.fp.readline(_MAXLINE + 1), \"iso-8859-1\")\n",
      "  File \"/home/cescollino/Workspace/Reverse-Image-Search-Scraper/scraper/lib/python3.10/site-packages/selenium/webdriver/remote/webdriver.py\", line 427, in execute\n",
      "    response = self.command_executor.execute(driver_command, params)\n",
      "  File \"/home/cescollino/Workspace/Reverse-Image-Search-Scraper/scraper/lib/python3.10/site-packages/selenium/webdriver/remote/remote_connection.py\", line 344, in execute\n",
      "    return self._request(command_info[0], url, body=data)\n",
      "  File \"/usr/lib/python3.10/socket.py\", line 705, in readinto\n",
      "    return self._sock.recv_into(b)\n",
      "  File \"/home/cescollino/Workspace/Reverse-Image-Search-Scraper/scraper/lib/python3.10/site-packages/selenium/webdriver/remote/remote_connection.py\", line 366, in _request\n",
      "    response = self._conn.request(method, url, body=body, headers=headers)\n",
      "KeyboardInterrupt\n",
      "  File \"/home/cescollino/Workspace/Reverse-Image-Search-Scraper/scraper/lib/python3.10/site-packages/urllib3/request.py\", line 78, in request\n",
      "    return self.request_encode_body(\n",
      "  File \"/home/cescollino/Workspace/Reverse-Image-Search-Scraper/scraper/lib/python3.10/site-packages/urllib3/request.py\", line 170, in request_encode_body\n",
      "    return self.urlopen(method, url, **extra_kw)\n",
      "  File \"/home/cescollino/Workspace/Reverse-Image-Search-Scraper/scraper/lib/python3.10/site-packages/urllib3/poolmanager.py\", line 376, in urlopen\n",
      "    response = conn.urlopen(method, u.request_uri, **kw)\n",
      "  File \"/home/cescollino/Workspace/Reverse-Image-Search-Scraper/scraper/lib/python3.10/site-packages/urllib3/connectionpool.py\", line 703, in urlopen\n",
      "    httplib_response = self._make_request(\n",
      "  File \"/home/cescollino/Workspace/Reverse-Image-Search-Scraper/scraper/lib/python3.10/site-packages/urllib3/connectionpool.py\", line 449, in _make_request\n",
      "    six.raise_from(e, None)\n",
      "  File \"<string>\", line 3, in raise_from\n",
      "  File \"/home/cescollino/Workspace/Reverse-Image-Search-Scraper/scraper/lib/python3.10/site-packages/urllib3/connectionpool.py\", line 444, in _make_request\n",
      "    httplib_response = conn.getresponse()\n",
      "  File \"/usr/lib/python3.10/http/client.py\", line 1374, in getresponse\n",
      "    response.begin()\n",
      "  File \"/usr/lib/python3.10/http/client.py\", line 318, in begin\n",
      "    version, status, reason = self._read_status()\n",
      "  File \"/usr/lib/python3.10/http/client.py\", line 279, in _read_status\n",
      "    line = str(self.fp.readline(_MAXLINE + 1), \"iso-8859-1\")\n",
      "  File \"/usr/lib/python3.10/socket.py\", line 705, in readinto\n",
      "    return self._sock.recv_into(b)\n",
      "KeyboardInterrupt\n"
     ]
    }
   ],
   "source": [
    "##RUN\n",
    "import multiprocessing\n",
    "thread_list = []\n",
    "\n",
    "for engine in Engine_List:\n",
    "    # thread = myThread(engine,img_path=file_path,result_path=destination_path,max_count=10000)\n",
    "    # thread_list.append(thread)\n",
    "    \n",
    "    process = multiprocessing.Process(\n",
    "        target= Scrape,\n",
    "        args=(engine,file_path,destination_path,10000)\n",
    "    )\n",
    "    thread_list.append(process)\n",
    "    \n",
    "for thread in thread_list:\n",
    "    thread.start()\n",
    "\n",
    "for thread in thread_list:\n",
    "    thread.join()\n"
   ]
  }
 ],
 "metadata": {
  "kernelspec": {
   "display_name": "Python 3 (ipykernel)",
   "language": "python",
   "name": "python3"
  },
  "language_info": {
   "codemirror_mode": {
    "name": "ipython",
    "version": 3
   },
   "file_extension": ".py",
   "mimetype": "text/x-python",
   "name": "python",
   "nbconvert_exporter": "python",
   "pygments_lexer": "ipython3",
   "version": "3.10.6"
  },
  "vscode": {
   "interpreter": {
    "hash": "3478a820d53aa445dafe816e736844cd8ae542c7b4d0382b2e7b24f23e86f195"
   }
  }
 },
 "nbformat": 4,
 "nbformat_minor": 5
}
