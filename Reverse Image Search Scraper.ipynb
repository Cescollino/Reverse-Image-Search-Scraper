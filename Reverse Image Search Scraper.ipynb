{
 "cells": [
  {
   "cell_type": "markdown",
   "id": "25125305-1707-4978-839d-f397d49d542f",
   "metadata": {
    "jp-MarkdownHeadingCollapsed": true,
    "tags": []
   },
   "source": [
    "# Importing Libraries, Hardcoding Search Engine Information"
   ]
  },
  {
   "cell_type": "markdown",
   "id": "04817fee-4da0-4eee-84f3-ba34877287d1",
   "metadata": {
    "jp-MarkdownHeadingCollapsed": true,
    "tags": []
   },
   "source": [
    "## Reverse image search inspiration"
   ]
  },
  {
   "cell_type": "markdown",
   "id": "5b2d6bfd-f687-4d27-a331-d2b436b4d322",
   "metadata": {
    "tags": []
   },
   "source": [
    "\n",
    "Gists taken from : https://gist.github.com/erm3nda/1f3819c71a6ca95d0bb32053536bb9f3\n",
    "\n",
    "and : https://medium.com/geekculture/scraping-images-using-selenium-f35fab26b122"
   ]
  },
  {
   "cell_type": "raw",
   "id": "0df7ddfe-ddbf-4a36-8898-ece8f1495072",
   "metadata": {},
   "source": [
    "## TEST SCRIPT FOR GOOGLE WEBDRIVER\n",
    "from selenium import webdriver\n",
    "from selenium.webdriver.chrome.options import Options\n",
    "from selenium.webdriver.chrome.service import Service\n",
    "from webdriver_manager.chrome import ChromeDriverManager\n",
    " \n",
    "options = Options()\n",
    "options.add_argument('--headless')\n",
    "options.add_argument('--no-sandbox')\n",
    "options.add_argument('--disable-dev-shm-usage')\n",
    "driver = webdriver.Chrome(service=Service(ChromeDriverManager().install()), options=options)\n",
    " \n",
    "driver.get(\"https://python.org\")\n",
    "print(driver.title)\n",
    "driver.close()"
   ]
  },
  {
   "cell_type": "markdown",
   "id": "9fc508ec-1ce8-4a3b-ade8-996fa500188a",
   "metadata": {
    "jp-MarkdownHeadingCollapsed": true,
    "tags": []
   },
   "source": [
    "## Importing Libraries"
   ]
  },
  {
   "cell_type": "code",
   "execution_count": 1,
   "id": "3ca3132e-d3d7-4679-8aa4-ec4995cabcb3",
   "metadata": {},
   "outputs": [],
   "source": [
    "import os, sys, re, io #handling files\n",
    "import base64\n",
    "from tqdm import tqdm\n",
    "\n",
    "#############################################################################\n",
    "\n",
    "import requests # HTTP\n",
    "from requests.adapters import HTTPAdapter\n",
    "from urllib3.util.retry import Retry\n",
    "import webbrowser \n",
    "\n",
    "#############################################################################\n",
    "import numpy as np # math\n",
    "import json\n",
    "\n",
    "#############################################################################\n",
    "import threading #for multiple browsers at the same time\n",
    "import logging\n",
    "import time\n",
    "\n",
    "#############################################################################\n",
    "import pdb #because this didnt work on first try\n",
    "\n",
    "###########################################################\n",
    "import selenium # Bot\n",
    "\n",
    "from selenium import webdriver\n",
    "from selenium.webdriver.support.ui import WebDriverWait\n",
    "from selenium.webdriver.remote.webelement import WebElement \n",
    "from selenium.webdriver.common.by import By\n",
    "from selenium.webdriver.support import expected_conditions as EC\n",
    "from selenium.webdriver.chrome.options import Options\n",
    "from selenium.webdriver.chrome.service import Service\n",
    "from webdriver_manager.chrome import ChromeDriverManager\n",
    "###############################################################################\n",
    "#Image processing for testing \n",
    "import PIL\n",
    "from PIL import Image"
   ]
  },
  {
   "cell_type": "markdown",
   "id": "b35b4d96-613a-4480-aeaf-3ba4c90b84a3",
   "metadata": {
    "jp-MarkdownHeadingCollapsed": true,
    "tags": []
   },
   "source": [
    "## Check your Python Version\n",
    "This code needs the swith-case function available in python 3.10 to handle the differences between the different websites simultaneously."
   ]
  },
  {
   "cell_type": "code",
   "execution_count": 2,
   "id": "6f788641-c017-4b33-a007-db44a4bac7cf",
   "metadata": {},
   "outputs": [
    {
     "name": "stdout",
     "output_type": "stream",
     "text": [
      "3.10.4 (main, Mar 31 2022, 08:41:55) [GCC 7.5.0]\n"
     ]
    }
   ],
   "source": [
    "print(sys.version)"
   ]
  },
  {
   "cell_type": "markdown",
   "id": "55315bf3-a0fd-428c-9373-c25f682ab10e",
   "metadata": {
    "jp-MarkdownHeadingCollapsed": true,
    "tags": []
   },
   "source": [
    "## Hardcoded File Paths"
   ]
  },
  {
   "cell_type": "code",
   "execution_count": 3,
   "id": "8f739588-babe-4c35-ab65-1b4d917c347c",
   "metadata": {},
   "outputs": [
    {
     "name": "stdout",
     "output_type": "stream",
     "text": [
      "using /home/cescollino/Documents/ETS/MAITRISE/Dataset/cat.jpg \n",
      "\n",
      "cat.jpg copied onto results folder\n"
     ]
    }
   ],
   "source": [
    "filePath = '/home/cescollino/Documents/ETS/MAITRISE/Dataset/cat.jpg' #image to search with\n",
    "resultPath= '/home/cescollino/Documents/ETS/MAITRISE/Dataset/Scraped_Dataset/cat/'\n",
    "#os.system('mkdir /home/cescollino/Documents/ETS/MAITRISE/Dataset/results/cat')\n",
    "print(\"using /home/cescollino/Documents/ETS/MAITRISE/Dataset/cat.jpg\",\"\\n\")\n",
    "\n",
    "os.system('cp /home/cescollino/Documents/ETS/MAITRISE/Dataset/cat.jpg /home/cescollino/Documents/ETS/MAITRISE/Dataset/Scraped_Dataset/cat/cat.jpg')\n",
    "#copies initial file into results folder\n",
    "print(\"cat.jpg copied onto results folder\")\n"
   ]
  },
  {
   "cell_type": "markdown",
   "id": "df5b4c21-2df4-49ec-a205-f2f65c594737",
   "metadata": {
    "jp-MarkdownHeadingCollapsed": true,
    "tags": []
   },
   "source": [
    "## Graphic or Headless Options"
   ]
  },
  {
   "cell_type": "code",
   "execution_count": 4,
   "id": "aebe8efe-d7ca-4dce-8721-7cc37c996010",
   "metadata": {},
   "outputs": [],
   "source": [
    "def SetupOptions():\n",
    "    #enable-lens-fullscreen-search\n",
    "    #enable-lens-standalone\n",
    "    options = Options()\n",
    "    options.headless=False #True\n",
    "    options.add_argument(\"--start-maximized\");\n",
    "    options.add_argument(\"--disable-dev-shm-usage\");\n",
    "    options.add_argument(\"--no-experiments\");\n",
    "    options.add_argument(\"--disable-plugins\");\n",
    "    options.add_argument(\"--incognito\");\n",
    "    options.add_experimental_option(\"excludeSwitches\", [\"enable-automation\"]);\n",
    "    options.add_experimental_option('useAutomationExtension', False)\n",
    "    \n",
    "    \n",
    "    return options"
   ]
  },
  {
   "cell_type": "markdown",
   "id": "b41c75b0-2f42-4c4b-8380-7d1855dc1769",
   "metadata": {
    "tags": []
   },
   "source": [
    "### Testing Script"
   ]
  },
  {
   "cell_type": "code",
   "execution_count": 5,
   "id": "e2245147-95b9-4d13-9d2b-b3b6d10131e6",
   "metadata": {},
   "outputs": [
    {
     "name": "stdout",
     "output_type": "stream",
     "text": [
      "False\n"
     ]
    }
   ],
   "source": [
    "print(SetupOptions().headless)"
   ]
  },
  {
   "cell_type": "markdown",
   "id": "b5b683b9-cac5-4215-9cea-0eeb118597c3",
   "metadata": {
    "jp-MarkdownHeadingCollapsed": true,
    "tags": []
   },
   "source": [
    "## SearchEngine Class"
   ]
  },
  {
   "cell_type": "code",
   "execution_count": 6,
   "id": "9801ccfb-8173-4ede-8811-e4ebea376d34",
   "metadata": {},
   "outputs": [],
   "source": [
    "class SearchEngine():\n",
    "    def __init__(self, URL:str,ID:int, thumbnail:str, image:str,load:str, options = SetupOptions()):\n",
    "        self.URL = URL\n",
    "        self.ID = ID\n",
    "        self.thumbnail = thumbnail\n",
    "        self.image = image\n",
    "        self.load = load\n",
    "        self.options = options\n",
    "        "
   ]
  },
  {
   "cell_type": "markdown",
   "id": "7978252c-74a6-4f5e-aab6-f6a78b53a407",
   "metadata": {
    "jp-MarkdownHeadingCollapsed": true,
    "tags": []
   },
   "source": [
    "## Building Google SearchEngine:"
   ]
  },
  {
   "cell_type": "code",
   "execution_count": 7,
   "id": "abfb4380-86d7-4b8d-b35d-106d0eeffeea",
   "metadata": {},
   "outputs": [],
   "source": [
    "Google= SearchEngine(URL=\"https://images.google.com/searchbyimage/upload\",\n",
    "               ID='0',\n",
    "               thumbnail=(By.CSS_SELECTOR,\"img.Q4LuWd\"),\n",
    "               image = (By.XPATH,\"//*[@id=\\\"Sva75c\\\"]/div/div/div[3]/div[2]/c-wiz/div/div[1]/div[1]/div[3]/div/a/img\"),\n",
    "               load = (By.CSS_SELECTOR,\".mye4qd\"))"
   ]
  },
  {
   "cell_type": "markdown",
   "id": "c5c2cf81-6a8d-4c98-b4eb-b6f17e8ff57d",
   "metadata": {
    "jp-MarkdownHeadingCollapsed": true,
    "tags": []
   },
   "source": [
    "## Building Yandex SearchEngine:"
   ]
  },
  {
   "cell_type": "code",
   "execution_count": 8,
   "id": "b560aa38-3b99-4bbb-90a4-7b6070f74e0b",
   "metadata": {},
   "outputs": [],
   "source": [
    "Yandex= SearchEngine(URL=\"https://yandex.com/images/search\",\n",
    "                     ID='1',\n",
    "                     thumbnail=(By.XPATH,\"//div[@class='serp-item__preview']/a/img\"),\n",
    "                     image = (By.XPATH,\"//div[@class='MMImageContainer']/img\"),\n",
    "                     load = \"\")\n"
   ]
  },
  {
   "cell_type": "markdown",
   "id": "f1fa9ddc-1501-4be9-84c7-ae97e476d1e3",
   "metadata": {
    "jp-MarkdownHeadingCollapsed": true,
    "tags": []
   },
   "source": [
    "## Building Sogou SearchEngine:"
   ]
  },
  {
   "cell_type": "code",
   "execution_count": 9,
   "id": "c55758cc-03ee-469d-8e89-8c5c81b4f9f8",
   "metadata": {},
   "outputs": [],
   "source": [
    "Sogou= SearchEngine(URL='https://pic.sogou.com/',\n",
    "                    ID='2',\n",
    "                    thumbnail=(By.XPATH,\"//div[@class='img-layout']/a/img\"),\n",
    "                    image = (By.XPATH, \"//div[@id='imgArea']/div[3]/div/div/a/img\"),\n",
    "                    #image = (By.XPATH, \"//*[@id=\\\"imgArea\\\"]/div[3]/div/div/a/img\"),\n",
    "                    #image = (By.XPATH,\"//div[@class='img-box']/a/img\"),\n",
    "                    load = \"\")"
   ]
  },
  {
   "cell_type": "markdown",
   "id": "92d83504-212c-434d-92b4-5b58fdf2cb49",
   "metadata": {
    "jp-MarkdownHeadingCollapsed": true,
    "tags": []
   },
   "source": [
    "## Engine_List"
   ]
  },
  {
   "cell_type": "code",
   "execution_count": 10,
   "id": "61bd1e89-0d86-4027-a311-632fe097822c",
   "metadata": {},
   "outputs": [
    {
     "name": "stdout",
     "output_type": "stream",
     "text": [
      "https://images.google.com/searchbyimage/upload \n",
      " ID: 0 \n",
      " Thumbnail: ('css selector', 'img.Q4LuWd') \n",
      " Image: ('xpath', '//*[@id=\"Sva75c\"]/div/div/div[3]/div[2]/c-wiz/div/div[1]/div[1]/div[3]/div/a/img') \n",
      " Load_Button: ('css selector', '.mye4qd') \n",
      "\n",
      "\n",
      "https://yandex.com/images/search \n",
      " ID: 1 \n",
      " Thumbnail: ('xpath', \"//div[@class='serp-item__preview']/a/img\") \n",
      " Image: ('xpath', \"//div[@class='MMImageContainer']/img\") \n",
      " Load_Button:  \n",
      "\n",
      "\n",
      "https://pic.sogou.com/ \n",
      " ID: 2 \n",
      " Thumbnail: ('xpath', \"//div[@class='img-layout']/a/img\") \n",
      " Image: ('xpath', \"//div[@id='imgArea']/div[3]/div/div/a/img\") \n",
      " Load_Button:  \n",
      "\n",
      "\n"
     ]
    }
   ],
   "source": [
    "Engine_List= []\n",
    "Engine_List.append(Google)\n",
    "Engine_List.append(Yandex)\n",
    "Engine_List.append(Sogou)\n",
    "\n",
    "for engine in Engine_List:\n",
    "    print(engine.URL,\n",
    "      \"\\n\",\n",
    "      \"ID:\", engine.ID,\n",
    "      \"\\n\",\n",
    "      \"Thumbnail:\", engine.thumbnail,\n",
    "      \"\\n\",\n",
    "      \"Image:\", engine.image,\n",
    "      \"\\n\",\n",
    "      \"Load_Button:\", engine.load,\"\\n\\n\")"
   ]
  },
  {
   "cell_type": "markdown",
   "id": "c4ca5953-4311-4cda-bfd0-9c06fb52f589",
   "metadata": {
    "jp-MarkdownHeadingCollapsed": true,
    "tags": []
   },
   "source": [
    "# Browsing using Selenium"
   ]
  },
  {
   "cell_type": "markdown",
   "id": "eb9d341c-e265-461f-8b69-458b5943d17f",
   "metadata": {
    "jp-MarkdownHeadingCollapsed": true,
    "tags": []
   },
   "source": [
    "## Definiting Basic Functions to Start and Fetch Pages"
   ]
  },
  {
   "cell_type": "code",
   "execution_count": 11,
   "id": "a47522c7-3720-4730-a736-7176aa28b76b",
   "metadata": {},
   "outputs": [],
   "source": [
    "def StartDriver(Engine:SearchEngine,initial_wait:int=10):\n",
    "    driverpath='/usr/local/bin/chromedriver/'\n",
    "    try:\n",
    "        driver = webdriver.Chrome(service=Service(ChromeDriverManager().install()), options=Engine.options)\n",
    "        driver.get(Engine.URL)\n",
    "        WebDriverWait(driver,initial_wait);\n",
    "        print (\"Chrome Driver #\",Engine.ID,\" Initialized\")\n",
    "        return driver\n",
    "        #driver.quit()\n",
    "        \n",
    "    except Exception as e:\n",
    "        print (\"FAILURE: Chrome Driver #\",Engine.ID,\"Not Initialized\",\"Exception:\",e)"
   ]
  },
  {
   "cell_type": "raw",
   "id": "5a168297-e9c5-4a98-b1ec-6386a983160f",
   "metadata": {},
   "source": [
    "### Testing Script\n",
    "driver = StartDriver(Yandex)\n",
    "\"\"\" \n",
    "WORKS\n",
    "\"\"\""
   ]
  },
  {
   "cell_type": "markdown",
   "id": "2240bcfe-d10b-4822-9f28-166d8c5d0133",
   "metadata": {
    "tags": []
   },
   "source": [
    "## Uploading Photographs to Different Websites"
   ]
  },
  {
   "cell_type": "markdown",
   "id": "e21e7a81-52cc-4938-9916-45117c3fa5a0",
   "metadata": {
    "jp-MarkdownHeadingCollapsed": true,
    "tags": []
   },
   "source": [
    "### Google"
   ]
  },
  {
   "cell_type": "code",
   "execution_count": 12,
   "id": "a1595ab2-f6d9-4308-953f-fc57703b53cf",
   "metadata": {},
   "outputs": [],
   "source": [
    "def GoogleUpload(Engine:SearchEngine, img_path:str, wait_button_click:int=5):\n",
    "    try:\n",
    "        # This avoids the annoying \"Google Lens\" Feature (or Bug rather) present in chrome\n",
    "        multipart = {'encoded_image': (img_path, open(img_path, 'rb')), 'image_content': ''}\n",
    "        response = requests.post('http://www.google.com/searchbyimage/upload', files=multipart, allow_redirects=False)\n",
    "        print(response)\n",
    "        fetchUrl = response.headers['Location']\n",
    "        Engine.URL=fetchUrl\n",
    "        driver=StartDriver(Engine)\n",
    "        \n",
    "        driver.find_element(By.XPATH,\"//a[contains(.,'similar images')]\").click()\n",
    "        \n",
    "    except Exception as e:\n",
    "        print (e)\n",
    "        \n",
    "    return driver"
   ]
  },
  {
   "cell_type": "raw",
   "id": "b18d6f58-508d-4532-b343-94eb7d6d98aa",
   "metadata": {},
   "source": [
    "GoogleUpload(Engine=Google,img_path=filePath)\n",
    "#WORKS"
   ]
  },
  {
   "cell_type": "markdown",
   "id": "402a2821-df5d-4c4c-97e6-968a9d926b2c",
   "metadata": {
    "jp-MarkdownHeadingCollapsed": true,
    "tags": []
   },
   "source": [
    "### Yandex"
   ]
  },
  {
   "cell_type": "code",
   "execution_count": 13,
   "id": "b441208d-4bf6-44bc-914b-caf7458ca154",
   "metadata": {},
   "outputs": [],
   "source": [
    "def YandexUpload(Engine:SearchEngine, img_path:str, wait_button_click:int=5):\n",
    "    try:\n",
    "        driver=StartDriver(Engine)\n",
    "        driver.find_element(By.XPATH,\"/html/body/header/div/div[1]/div[2]/form/div[1]/span/span/button\").click()\n",
    "        driver.find_element(By.XPATH,\"//input[@type='file']\").send_keys(img_path);\n",
    "        WebDriverWait(driver, 15).until(\n",
    "        EC.presence_of_element_located((By.XPATH, \"//a[contains(.,'Similar images')]\"))\n",
    "        )\n",
    "        driver.find_element(By.XPATH,\"//a[contains(.,'Similar images')]\").click()\n",
    "        WebDriverWait(driver, 2)\n",
    "        driver.back()\n",
    "        driver.forward()\n",
    "    except Exception as e:\n",
    "        print (e)\n",
    "    return driver"
   ]
  },
  {
   "cell_type": "raw",
   "id": "d427942e-e434-4ee8-96d2-a4b6541fbf11",
   "metadata": {},
   "source": [
    "YandexUpload(Engine=Yandex,img_path=filePath)\n",
    "#WORKS"
   ]
  },
  {
   "cell_type": "markdown",
   "id": "15bcbab2-a1b4-4a6e-9aff-026ef7a08083",
   "metadata": {
    "jp-MarkdownHeadingCollapsed": true,
    "tags": []
   },
   "source": [
    "### Sogou"
   ]
  },
  {
   "cell_type": "code",
   "execution_count": 14,
   "id": "3d6f5f5c-9c16-484b-8e58-bb28b5537def",
   "metadata": {},
   "outputs": [],
   "source": [
    "def SogouUpload(Engine:SearchEngine, img_path:str, wait_button_click:int=5):\n",
    "    try:\n",
    "        driver=StartDriver(Engine)\n",
    "        driver.find_element(By.XPATH,\"//input[@type='file']\").send_keys(img_path);\n",
    "        \n",
    "    except Exception as e :\n",
    "        print(e)\n",
    "        \n",
    "    return driver"
   ]
  },
  {
   "cell_type": "raw",
   "id": "bb7d4336-d74a-482b-99ae-d330438a00e3",
   "metadata": {},
   "source": [
    "driver=SogouUpload(Sogou,img_path=filePath)"
   ]
  },
  {
   "cell_type": "markdown",
   "id": "60cbe148-cb29-441e-a235-2d7a4491a16d",
   "metadata": {
    "jp-MarkdownHeadingCollapsed": true,
    "tags": []
   },
   "source": [
    "## Upload depending on ID"
   ]
  },
  {
   "cell_type": "code",
   "execution_count": 15,
   "id": "a8dfea33-3a98-449c-b552-958248da443d",
   "metadata": {},
   "outputs": [],
   "source": [
    "def UploadPhoto(Engine:SearchEngine , img_path:str):\n",
    "    print(Engine.ID)\n",
    "    match Engine.ID:\n",
    "        case '0':\n",
    "            \n",
    "            return GoogleUpload(Engine=Engine, img_path=img_path)\n",
    "        \n",
    "        case '1':\n",
    "            \n",
    "            return YandexUpload(Engine=Engine, img_path=img_path)\n",
    "        \n",
    "        case '2':\n",
    "            \n",
    "            return SogouUpload(Engine=Engine, img_path=img_path)\n",
    "\n",
    "        # If an exact match is not confirmed, this last case will be used if provided\n",
    "        case _:\n",
    "            \n",
    "            return \"Something's wrong\""
   ]
  },
  {
   "cell_type": "raw",
   "id": "7d13fc64-81a7-4474-94ae-5b82509b7158",
   "metadata": {},
   "source": [
    "### Test Script\n",
    "for search_engine in search_engines:\n",
    "    a=UploadPhoto(search_engine, img_path=filePath)\n",
    "    print(a)\n",
    "\"\"\"\n",
    "Works\n",
    "\"\"\""
   ]
  },
  {
   "cell_type": "markdown",
   "id": "828c5f32-705d-405f-90af-467678d5cfbf",
   "metadata": {
    "jp-MarkdownHeadingCollapsed": true,
    "tags": []
   },
   "source": [
    "## Scroll to end"
   ]
  },
  {
   "cell_type": "code",
   "execution_count": 16,
   "id": "f2354943-b791-428a-a179-e3caa836c527",
   "metadata": {},
   "outputs": [],
   "source": [
    "def scroll_to_end(wd,sleep:int=5):\n",
    "    wd.execute_script(\"window.scrollTo(0, document.body.scrollHeight);\")\n",
    "    wd.implicitly_wait(sleep)\n",
    "                    ##############################################################################################################"
   ]
  },
  {
   "cell_type": "raw",
   "id": "b3254538-5141-4578-90c2-0872ff985d24",
   "metadata": {},
   "source": [
    "### Test script\n",
    "wd = GoogleUpload(Engine=Google,img_path=filePath)\n",
    "scroll_to_end(wd)\n",
    "\"\"\"\n",
    "Works\n",
    "\"\"\""
   ]
  },
  {
   "cell_type": "markdown",
   "id": "a978a96b-6883-4544-9260-670952f3773c",
   "metadata": {
    "jp-MarkdownHeadingCollapsed": true,
    "tags": []
   },
   "source": [
    "## Fetching Image Binaries"
   ]
  },
  {
   "cell_type": "code",
   "execution_count": 17,
   "id": "bfd572b4-262f-4823-86a1-25f008688aa5",
   "metadata": {},
   "outputs": [],
   "source": [
    "def Fetch_Image_Data(actual_image):\n",
    "    try:\n",
    "        \n",
    "        ##FETCHING LINK##\n",
    "        #Make a request to a web page, and return the status code\n",
    "        #actual_image is a URL\n",
    "        image_content = requests.get(actual_image.get_attribute('src')).content\n",
    "        return image_content\n",
    "        \n",
    "    except Exception as e:\n",
    "        \n",
    "        print(f\"ERROR - Could not download {actual_image.get_attribute('src')} - {e}\")\n",
    "        return e\n",
    "                    ##############################################################################################################"
   ]
  },
  {
   "cell_type": "markdown",
   "id": "71d875f5-5af5-4754-b050-efaa887bd8fc",
   "metadata": {
    "tags": []
   },
   "source": [
    "### Test Script\n",
    "Dummy=Google\n",
    "Dummy.URL=\"https://unsplash.com/photos/37Dw48o0fb4\"\n",
    "driver = StartDriver(Dummy)\n",
    "\n",
    "element_css = 'div.omfF5:nth-child(3) > div:nth-child(3) > div:nth-child(1) > img:nth-child(1)'\n",
    "element = driver.find_element(By.CSS_SELECTOR, element_css)\n",
    "\n",
    "result = Fetch_Image_Data(element)\n",
    "\n",
    "print(type(result))\n",
    "result = io.BytesIO(result)\n",
    "photo = PIL.Image.open(result)\n",
    "photo.show()\n",
    "\n",
    "\"\"\"\n",
    "Works\n",
    "\"\"\""
   ]
  },
  {
   "cell_type": "markdown",
   "id": "4c5e4720-096e-47fd-b53d-a43945d692de",
   "metadata": {
    "jp-MarkdownHeadingCollapsed": true,
    "tags": []
   },
   "source": [
    "## Saving Image and Link information"
   ]
  },
  {
   "cell_type": "code",
   "execution_count": 29,
   "id": "6250cb79-810b-4f19-b0d0-d9001207e30e",
   "metadata": {},
   "outputs": [],
   "source": [
    "def Save_Img(actual_image, target_folder:str, image_count:int,ID:int):\n",
    "    \n",
    "    if actual_image.get_attribute('src') and 'http' in actual_image.get_attribute('src'):\n",
    "        \n",
    "        try:\n",
    "            ##IMAGE##\n",
    "            f = open(os.path.join(target_folder, 'jpg' + \"_\" + str(image_count) + \"_EngineID_\"+str(ID)+\".jpg\"), 'wb')\n",
    "            f.write(Fetch_Image_Data(actual_image))\n",
    "            f.close()\n",
    "\n",
    "            ##LINK##\n",
    "            t = open(os.path.join(target_folder, \"links_ENGINEID_\"+str(ID)+\".txt\"), 'a', encoding=\"utf-8\")\n",
    "            t.write(actual_image.get_attribute('src')+'\\n')\n",
    "            t.close()\n",
    "\n",
    "            print(f\"SUCCESS - saved {actual_image.get_attribute('src')} - as {image_count}\")\n",
    "\n",
    "        except Exception as e:\n",
    "\n",
    "            print(f\"ERROR - Could not save {actual_image.get_attribute('src')} - {e}\")\n",
    "        return 1\n",
    "    else:\n",
    "        print(\"error\")\n",
    "        return 0               \n",
    "                    ##############################################################################################################"
   ]
  },
  {
   "cell_type": "raw",
   "id": "f9d67742-4139-42b1-8d6c-843bda47de25",
   "metadata": {},
   "source": [
    "## TEST\n",
    "path='/home/cescollino/dummy'\n",
    "Dummy=Google\n",
    "Dummy.URL=\"https://unsplash.com/photos/37Dw48o0fb4\"\n",
    "driver = StartDriver(Dummy)\n",
    "\n",
    "element_css = 'div.omfF5:nth-child(3) > div:nth-child(3) > div:nth-child(1) > img:nth-child(1)'\n",
    "element = driver.find_element(By.CSS_SELECTOR, element_css)\n",
    "\n",
    "Save_Img(actual_image=element,target_folder=path,image_count=666)\n",
    "\n",
    "\n",
    "driver.quit()\n",
    "\n",
    "## WORKS"
   ]
  },
  {
   "cell_type": "markdown",
   "id": "f797d15c-65fa-4c9c-9df4-85e54d7a65e8",
   "metadata": {
    "jp-MarkdownHeadingCollapsed": true,
    "tags": []
   },
   "source": [
    "## Iterating through all the images, clicking and saving\n",
    "\n",
    "Note: # \"//div[@class='the class I want']/img\" or \"//a[@class='the class I want']/img\" navigates to image inside div or anchor"
   ]
  },
  {
   "cell_type": "code",
   "execution_count": 19,
   "id": "4e2a509b-d8da-44ad-8614-9bf542f5770a",
   "metadata": {},
   "outputs": [],
   "source": [
    "def FindResults(nav,searchengine):\n",
    "    scroll_to_end(nav)\n",
    "    thumbnail_results = nav.find_elements(*searchengine.thumbnail)\n",
    "    #print(len(thumbnail_results))\n",
    "    return thumbnail_results"
   ]
  },
  {
   "cell_type": "code",
   "execution_count": 20,
   "id": "8d68943a-6806-403e-a16d-fe137d54e74b",
   "metadata": {},
   "outputs": [],
   "source": [
    "def ClickLoadMore(nav,engine:SearchEngine):\n",
    "    load_more_button = nav.find_elements(*engine.load)\n",
    "    \n",
    "    #if load_more_button:\n",
    "    #    nav.execute_script(\"document.querySelector('\"+engine.load[1]+\"').click();\")"
   ]
  },
  {
   "cell_type": "markdown",
   "id": "9accb8ad-d439-42c3-b122-f716399c39c6",
   "metadata": {
    "jp-MarkdownHeadingCollapsed": true,
    "tags": []
   },
   "source": [
    "## Google Scraping"
   ]
  },
  {
   "cell_type": "code",
   "execution_count": 21,
   "id": "97a2d045-7caa-44cf-9cde-3dfec8281e8c",
   "metadata": {},
   "outputs": [],
   "source": [
    "def GoogleScrape(driver,engine:SearchEngine,count:int,path:str,max_count:int, results_start:int):\n",
    "    with tqdm(total=max_count) as pbar:\n",
    "        while count < max_count:\n",
    "\n",
    "            thumbnails=FindResults(driver,engine)\n",
    "            number_results=len(thumbnails)\n",
    "            print(f\"Found: {number_results} search results. Extracting links from {results_start}:{number_results}\")\n",
    "\n",
    "            for thumb in thumbnails[results_start:number_results]:\n",
    "\n",
    "                try:\n",
    "                    thumb.click()\n",
    "                    image=driver.find_element(*engine.image)\n",
    "                    time.sleep(1)\n",
    "                    count=count+Save_Img(actual_image=image,target_folder=path,image_count=count, ID = engine.ID)\n",
    "\n",
    "                except Exception as e:\n",
    "                    print(e)\n",
    "\n",
    "            if count >= max_count:\n",
    "                    print(f\"Found: {count} image links, done!\")\n",
    "                    break\n",
    "\n",
    "            else:\n",
    "                    print(\"Found:\",count, \"image links, looking for more ...\")\n",
    "                    time.sleep(2)\n",
    "\n",
    "            scroll_to_end(driver)\n",
    "            results_start = len(thumbnails)\n",
    "            pbar.update(count)\n",
    "    return count"
   ]
  },
  {
   "cell_type": "markdown",
   "id": "438e4b35-31f4-4428-a612-f9037adce151",
   "metadata": {
    "jp-MarkdownHeadingCollapsed": true,
    "tags": []
   },
   "source": [
    "## Yandex Scraping"
   ]
  },
  {
   "cell_type": "code",
   "execution_count": 26,
   "id": "d84f9d12-5237-4e3b-a4cf-fab427fb4084",
   "metadata": {},
   "outputs": [],
   "source": [
    "def YandexScrape(driver,engine:SearchEngine,count:int,path:str,max_count:int, results_start:int):\n",
    "    with tqdm(total=max_count) as pbar:\n",
    "        while count < max_count:\n",
    "\n",
    "            thumbnails=FindResults(driver,engine)\n",
    "            number_results=len(thumbnails)\n",
    "            print(f\"Found: {number_results} search results. Extracting links from {results_start}:{number_results}\")\n",
    "\n",
    "            for thumb in thumbnails[results_start:number_results]:\n",
    "\n",
    "                try:\n",
    "                    thumb.click()\n",
    "                    image=driver.find_element(*engine.image)#(By.XPATH,\"//div[@class='MMImageContainer']/img\")\n",
    "                    time.sleep(1)\n",
    "                    count=count+Save_Img(actual_image=image,target_folder=path,image_count=count,ID=engine.ID)\n",
    "                    driver.back()\n",
    "\n",
    "                except Exception as e:\n",
    "                    print(e)\n",
    "\n",
    "            if count >= max_count:\n",
    "                    print(f\"Found: {count} image links, done!\")\n",
    "                    break\n",
    "\n",
    "            else:\n",
    "                    print(\"Found:\",count, \"image links, looking for more ...\")\n",
    "                    time.sleep(2)\n",
    "\n",
    "            scroll_to_end(driver)\n",
    "            results_start = len(thumbnails)\n",
    "            pbar.update(count)\n",
    "    return count\n",
    "\n",
    "## WORKS"
   ]
  },
  {
   "cell_type": "markdown",
   "id": "fe4b1961-ac17-4c62-bdc3-3248bbee7813",
   "metadata": {
    "jp-MarkdownHeadingCollapsed": true,
    "tags": []
   },
   "source": [
    "## Sogou Scraping"
   ]
  },
  {
   "cell_type": "code",
   "execution_count": 27,
   "id": "8c4b4b7f-89b9-4fef-b0e8-988f8c5db89b",
   "metadata": {},
   "outputs": [],
   "source": [
    "def SogouScrape(driver,engine:SearchEngine,count:int,path:str,max_count:int, results_start:int):\n",
    "    with tqdm(total=max_count) as pbar:\n",
    "        while count < max_count:\n",
    "\n",
    "            thumbnails=FindResults(driver,engine)\n",
    "            number_results=len(thumbnails)\n",
    "            print(f\"Found: {number_results} search results. Extracting links from {results_start}:{number_results}\")\n",
    "\n",
    "            for thumb in thumbnails[results_start:number_results]:\n",
    "\n",
    "                try:\n",
    "                    thumb.click()\n",
    "                    driver.switch_to.window(driver.window_handles[1])\n",
    "                    image=driver.find_element(*engine.image)\n",
    "                    time.sleep(1)\n",
    "                    count=count+Save_Img(actual_image=image,target_folder=path,image_count=count,ID=engine.ID)\n",
    "                    driver.close()\n",
    "\n",
    "                except Exception as e:\n",
    "                    print(e)\n",
    "\n",
    "                driver.switch_to.window(driver.window_handles[0])\n",
    "\n",
    "            if count >= max_count:\n",
    "                    print(f\"Found: {count} image links, done!\")\n",
    "                    break\n",
    "\n",
    "            else:\n",
    "                    print(\"Found:\",count, \"image links, looking for more ...\")\n",
    "                    time.sleep(2)\n",
    "\n",
    "            scroll_to_end(driver)\n",
    "            results_start = len(thumbnails)\n",
    "            pbar.update(count)\n",
    "    return count\n"
   ]
  },
  {
   "cell_type": "code",
   "execution_count": 24,
   "id": "613b1472-d7b0-4e6a-8bb1-ec351e624404",
   "metadata": {},
   "outputs": [],
   "source": [
    "def Scrape(engine:SearchEngine,img_path:str,result_path:str,max_count:int=100):\n",
    "    driver = UploadPhoto(engine, img_path=img_path)\n",
    "    count=0\n",
    "    results_start=0\n",
    "    print(\"ID:\",engine.ID,\"count:\",count,\"max:\", max_count)\n",
    "    match engine.ID:\n",
    "        case '0':\n",
    "            GoogleScrape(driver=driver,\n",
    "                        engine=engine,\n",
    "                        count=count,\n",
    "                        path=result_path,\n",
    "                        max_count=max_count,\n",
    "                        results_start=results_start)\n",
    "        case '1':\n",
    "            YandexScrape(driver=driver,\n",
    "                        engine=engine,\n",
    "                        count=count,\n",
    "                        path=result_path,\n",
    "                        max_count=max_count,\n",
    "                        results_start=results_start)\n",
    "        case '2':\n",
    "            SogouScrape(driver=driver,\n",
    "                        engine=engine,\n",
    "                        count=count,\n",
    "                        path=result_path,\n",
    "                        max_count=max_count,\n",
    "                        results_start=results_start)\n",
    "        case other:\n",
    "            print(\"ERROR, ENGINE ID MISSING\")"
   ]
  },
  {
   "cell_type": "markdown",
   "id": "3e630e0e-40d2-42a0-99f6-4ff0aeecf59b",
   "metadata": {
    "tags": []
   },
   "source": [
    "## Putting everything together"
   ]
  },
  {
   "cell_type": "markdown",
   "id": "191160a4-c0da-4a87-a431-66dcb7ca8058",
   "metadata": {
    "jp-MarkdownHeadingCollapsed": true,
    "tags": []
   },
   "source": [
    "# Multi-Threading"
   ]
  },
  {
   "cell_type": "code",
   "execution_count": null,
   "id": "f15d3468-c889-478f-ada8-4ee5b427e2d8",
   "metadata": {},
   "outputs": [],
   "source": [
    "engine=Yandex\n",
    "driver = UploadPhoto(engine, img_path=filePath)\n",
    "count=0\n",
    "results_start=0\n",
    "result_path = '/home/cescollino/dummy'\n",
    "\n",
    "YandexScrape(driver=driver,\n",
    "                        engine=engine,\n",
    "                        count=count,\n",
    "                        path=result_path,\n",
    "                        max_count=100,\n",
    "                        results_start=results_start)\n"
   ]
  },
  {
   "cell_type": "code",
   "execution_count": null,
   "id": "c869ea92-0a06-4b8f-ae00-a48e7730041c",
   "metadata": {},
   "outputs": [],
   "source": [
    "Scrape(Google,filePath,result_path)"
   ]
  },
  {
   "cell_type": "code",
   "execution_count": 36,
   "id": "4e49b100-4d7b-4cc9-8e57-28353bc8c167",
   "metadata": {},
   "outputs": [],
   "source": [
    "class myThread (threading.Thread):\n",
    "   def __init__(self, engine:SearchEngine, img_path:str,result_path:str,max_count:int=100):\n",
    "      threading.Thread.__init__(self)\n",
    "      self.engine = engine\n",
    "      self.img_path = img_path\n",
    "      self.result_path = result_path\n",
    "      self.max_count = max_count\n",
    "   def run(self):\n",
    "      Scrape(self.engine,self.img_path,self.result_path,max_count=self.max_count)"
   ]
  },
  {
   "cell_type": "code",
   "execution_count": null,
   "id": "5f14381e-6b24-4d24-b6a2-68547dfb651d",
   "metadata": {},
   "outputs": [],
   "source": [
    "##RUN\n",
    "Threads=[]\n",
    "result_path = '/home/cescollino/dummy'\n",
    "thread_list = []\n",
    "\n",
    "for engine in Engine_List:\n",
    "    thread = myThread(engine,img_path=filePath,result_path=result_path,max_count=100)\n",
    "    thread_list.append(thread)\n",
    "    \n",
    "for thread in thread_list:\n",
    "    thread.start()\n"
   ]
  },
  {
   "cell_type": "markdown",
   "id": "8fc6a91f-ef9e-4778-999b-5c52a3c364c7",
   "metadata": {
    "jp-MarkdownHeadingCollapsed": true,
    "tags": []
   },
   "source": [
    "## Posting Image to Google Reverse Image Search, example using requests without Selenium"
   ]
  },
  {
   "cell_type": "markdown",
   "id": "275fdd20-f4aa-4ee5-89a6-2b43d51b22b7",
   "metadata": {},
   "source": [
    "#searchUrl= ''\n",
    "multipart = {'encoded_image': (filePath, open(filePath, 'rb')), 'image_content': ''}\n",
    "response = requests.post('http://www.google.com/searchbyimage/upload', files=multipart, allow_redirects=False)\n",
    "print(response)\n",
    "fetchUrl = response.headers['Location']\n",
    "print(fetchUrl) #Search Results page"
   ]
  },
  {
   "cell_type": "markdown",
   "id": "f43fde60-39a2-40ce-ad59-39d941be534a",
   "metadata": {
    "jp-MarkdownHeadingCollapsed": true,
    "tags": []
   },
   "source": [
    "## Previous Version"
   ]
  },
  {
   "cell_type": "raw",
   "id": "5f6e9025-8f5f-42de-826f-ddbe39157a29",
   "metadata": {
    "tags": []
   },
   "source": [
    "target_folder = os.path.join('/home/cescollino/Documents/ETS/MAITRISE/Dataset/results/', 'cat')\n",
    "\n",
    "if not os.path.exists(target_folder):\n",
    "    os.makedirs(target_folder)\n",
    "    \n",
    "nav = webdriver.Firefox() # u can use webdriver.PhantomJS for headless and faster execution\n",
    "nav.get(fetchUrl)\n",
    "WebDriverWait(nav, 10)\n",
    "\n",
    "#python_button = nav.find_element(By.CSS_SELECTOR,\"html body#gsr.srp div#main.main div#cnt.e9EfHf div#rcnt.GyAeWb div#center_col.s6JM6d div#res.eqAnXb div#search div div#rso.v7W49e div.ULSxyf div.EyBRub div.LnbJhc g-section-with-header.yG4QQe.TBC9ub div.e2BEnf.U7izfe.hWIMdd.LqvO9e title-with-lhs-icon a.ekf0x.hSQtef div.iJ1Kvb h3.GmE3X.kWYf3c\")\n",
    "Xpaths=[]\n",
    "Xpaths.append(\"/html/body/div[2]/c-wiz/div[3]/div[1]/div/div/div/div[1]/div[1]/span/div[1]/div[1]/div[1]/a[1]/div[1]/img\")\n",
    "Xpaths.append(\"/html/body/div[7]/div/div[10]/div/div[2]/div[2]/div/div/div[2]/div/div[2]/g-section-with-header/div[1]/title-with-lhs-icon/a/div[2]/h3\")\n",
    "Xpaths.append(\"/html/body/div[7]/div/div[10]/div/div[2]/div[2]/div/div/div[1]/div/div[2]/g-section-with-header/div[1]/title-with-lhs-icon/a/div[2]/h3\")\n",
    "for buttons in Xpaths:\n",
    "    try:\n",
    "        python_button = nav.find_element(By.XPATH,buttons)\n",
    "        python_button.click()\n",
    "    \n",
    "    except Exception as e:\n",
    "        print(e)\n",
    "    \n",
    "WebDriverWait(nav, 10)\n",
    "fetchUrl=nav.current_url;\n",
    "\n",
    "############################################################################\n",
    "\n",
    "image_urls = set()\n",
    "image_count = 0\n",
    "results_start = 0\n",
    "max_links_to_fetch = 500\n",
    "\n",
    "############################################################################\n",
    "\n",
    "while image_count < max_links_to_fetch:\n",
    "    \n",
    "    scroll_to_end(nav)\n",
    "    thumbnail_results = nav.find_elements(By.CSS_SELECTOR,\"img.Q4LuWd\")\n",
    "    number_results = len(thumbnail_results)\n",
    "    print(f\"Found: {number_results} search results. Extracting links from {results_start}:{number_results}\")\n",
    "    \n",
    "    \n",
    "    for img in thumbnail_results[results_start:number_results]:\n",
    "            # try to click every thumbnail such that we can get the real image behind it\n",
    "            try:\n",
    "                img.click()\n",
    "                time.sleep(3)\n",
    "            except Exception:\n",
    "                continue\n",
    "\n",
    "            # extract image urls\n",
    "            actual_images = nav.find_elements(By.CSS_SELECTOR,'img.n3VNCb')\n",
    "            for actual_image in actual_images:\n",
    "                if actual_image.get_attribute('src') and 'http' in actual_image.get_attribute('src'):\n",
    "                    image_urls.add(actual_image.get_attribute('src'))\n",
    "                    try:\n",
    "                        ##FETCHING LINK##\n",
    "                        image_content = requests.get(actual_image.get_attribute('src')).content\n",
    "                        \n",
    "                    except Exception as e:\n",
    "                        \n",
    "                        print(f\"ERROR - Could not download {actual_image.get_attribute('src')} - {e}\")\n",
    "                        \n",
    "                    try:\n",
    "                        \n",
    "                        ##IMAGE##\n",
    "                        f = open(os.path.join(target_folder, 'jpg' + \"_\" + str(image_count) + \".jpg\"), 'wb')\n",
    "                        f.write(image_content)\n",
    "                        f.close()\n",
    "                        \n",
    "                        ##LINK##\n",
    "                        t = open(os.path.join(target_folder, \"links.txt\"), 'a', encoding=\"utf-8\")\n",
    "                        t.write(actual_image.get_attribute('src')+'\\n')\n",
    "                        t.close()\n",
    "                        \n",
    "                        print(f\"SUCCESS - saved {actual_image.get_attribute('src')} - as {image_count}\")\n",
    "                        \n",
    "                    except Exception as e:\n",
    "                        print(f\"ERROR - Could not save {actual_image.get_attribute('src')} - {e}\")\n",
    "                        \n",
    "                    ##############################################################################################################33\n",
    "\n",
    "            image_count = len(image_urls)\n",
    "\n",
    "            if len(image_urls) >= max_links_to_fetch:\n",
    "                print(f\"Found: {len(image_urls)} image links, done!\")\n",
    "                #pdb.set_trace()\n",
    "                break\n",
    "            else:\n",
    "                print(\"Found:\", len(image_urls), \"image links, looking for more ...\")\n",
    "                time.sleep(10)\n",
    "            \n",
    "            load_more_button = nav.find_elements(By.CSS_SELECTOR,\".mye4qd\")\n",
    "            if load_more_button:\n",
    "                nav.execute_script(\"document.querySelector('.mye4qd').click();\")\n",
    "\n",
    "    # move the result startpoint further down\n",
    "    results_start = len(thumbnail_results)\n"
   ]
  },
  {
   "cell_type": "markdown",
   "id": "2ec1f2f1-8837-4a12-93cb-4f15af1fe99d",
   "metadata": {},
   "source": [
    "def scroll_to_end(wd):\n",
    "        wd.execute_script(\"window.scrollTo(0, document.body.scrollHeight);\")\n",
    "        time.sleep(sleep_between_interactions)\n",
    "\n",
    "        # build the google query\n"
   ]
  },
  {
   "cell_type": "markdown",
   "id": "abfd1808-a589-4d7d-a015-834cacf1a88c",
   "metadata": {},
   "source": [
    "def fetch_image_urls(query: str, max_links_to_fetch: int, wd: webdriver, sleep_between_interactions: int = 1):\n",
    "    def scroll_to_end(wd):\n",
    "        wd.execute_script(\"window.scrollTo(0, document.body.scrollHeight);\")\n",
    "        time.sleep(sleep_between_interactions)\n",
    "\n",
    "        # build the google query\n",
    "\n",
    "    \n",
    "    # load the page\n",
    "    wd.get(query)\n",
    "\n",
    "    image_urls = set()\n",
    "    image_count = 0\n",
    "    results_start = 0\n",
    "    while image_count < max_links_to_fetch:\n",
    "        scroll_to_end(wd)\n",
    "\n",
    "        # get all image thumbnail results\n",
    "        thumbnail_results = wd.find_elements(By.CSS_SELECTOR,\"img.Q4LuWd\")\n",
    "        number_results = len(thumbnail_results)\n",
    "\n",
    "        print(f\"Found: {number_results} search results. Extracting links from {results_start}:{number_results}\")\n",
    "\n",
    "        for img in thumbnail_results[results_start:number_results]:\n",
    "            # try to click every thumbnail such that we can get the real image behind it\n",
    "            try:\n",
    "                img.click()\n",
    "                time.sleep(sleep_between_interactions)\n",
    "            except Exception:\n",
    "                continue\n",
    "\n",
    "            # extract image urls\n",
    "            actual_images = wd.find_elements(By.CSS_SELECTOR,'img.n3VNCb')\n",
    "            for actual_image in actual_images:\n",
    "                if actual_image.get_attribute('src') and 'http' in actual_image.get_attribute('src'):\n",
    "                    image_urls.add(actual_image.get_attribute('src'))\n",
    "\n",
    "            image_count = len(image_urls)\n",
    "\n",
    "            if len(image_urls) >= max_links_to_fetch:\n",
    "                print(f\"Found: {len(image_urls)} image links, done!\")\n",
    "                break\n",
    "            else:\n",
    "                print(\"Found:\", len(image_urls), \"image links, looking for more ...\")\n",
    "                time.sleep(30)\n",
    "                \n",
    "            return\n",
    "            load_more_button = wd.find_elements(By.CSS_SELECTOR,\".mye4qd\")\n",
    "            if load_more_button:\n",
    "                wd.execute_script(\"document.querySelector('.mye4qd').click();\")\n",
    "\n",
    "        # move the result startpoint further down\n",
    "        results_start = len(thumbnail_results)\n",
    "\n",
    "    return image_urls"
   ]
  },
  {
   "cell_type": "raw",
   "id": "61282e7b-2fa4-4e0e-b6c1-9bcdf951618e",
   "metadata": {
    "jp-MarkdownHeadingCollapsed": true,
    "tags": []
   },
   "source": [
    "def search_and_download(search_term: str, driver_path: str, target_path='./images', number_images=10):\n",
    "    target_folder = os.path.join(target_path, '_'.join('kid'))\n",
    "\n",
    "    if not os.path.exists(target_folder):\n",
    "        os.makedirs(target_folder)\n",
    "\n",
    "    with webdriver.Firefox(executable_path=driver_path) as wd:\n",
    "        res = fetch_image_urls(search_term, number_images, wd=wd, sleep_between_interactions=0.5)\n",
    "\n",
    "    counter = 0\n",
    "    for elem in res:\n",
    "        persist_image(target_folder, elem, counter)\n",
    "        counter += 1\n",
    "\n",
    "DRIVER_PATH = '/usr/local/bin/geckodriver'\n",
    "search_term = 'cat'\n",
    "# num of images you can pass it from here  by default it's 10 if you are not passing\n",
    "# number_images = 10\n",
    "search_and_download(search_term=fetchUrl, driver_path=DRIVER_PATH)"
   ]
  },
  {
   "cell_type": "markdown",
   "id": "56eae104-7925-49bb-a313-756d9de49fc8",
   "metadata": {},
   "source": [
    "def persist_image(folder_path:str,url:str, counter):\n",
    "    try:\n",
    "        image_content = requests.get(url).content\n",
    "\n",
    "    except Exception as e:\n",
    "        print(f\"ERROR - Could not download {url} - {e}\")\n",
    "\n",
    "    try:\n",
    "        f = open(os.path.join(folder_path, 'jpg' + \"_\" + str(counter) + \".jpg\"), 'wb')\n",
    "        f.write(image_content)\n",
    "        f.close()\n",
    "        print(f\"SUCCESS - saved {url} - as {folder_path}\")\n",
    "    except Exception as e:\n",
    "        print(f\"ERROR - Could not save {url} - {e}\")"
   ]
  },
  {
   "cell_type": "raw",
   "id": "2612a77c-8919-4e77-921f-5ddd7fab380c",
   "metadata": {},
   "source": [
    "filePath = '/home/cescollino/Documents/ETS/MAITRISE/Dataset/cat.jpg'\n",
    "searchUrl = 'http://www.google.hr/searchbyimage/upload'\n",
    "multipart = {'encoded_image': (filePath, open(filePath, 'rb')), 'image_content': ''}\n",
    "response = requests.post(searchUrl, files=multipart, allow_redirects=False)\n",
    "fetchUrl = response.headers['Location']\n",
    "print(fetchUrl)\n",
    "\n",
    "nav = webdriver.Firefox() # u can use webdriver.PhantomJS for headless and faster execution\n",
    "nav.get(fetchUrl)\n",
    "nav.implicitly_wait(10)\n",
    "\n",
    "python_button = nav.find_element(By.CSS_SELECTOR,\"html body#gsr.srp div#main.main div#cnt.e9EfHf div#rcnt.GyAeWb div#center_col.s6JM6d div#res.eqAnXb div#search div div#rso.v7W49e div.ULSxyf div.EyBRub div.LnbJhc g-section-with-header.yG4QQe.TBC9ub div.e2BEnf.U7izfe.hWIMdd.LqvO9e title-with-lhs-icon a.ekf0x.hSQtef div.iJ1Kvb h3.GmE3X.kWYf3c\")\n",
    "python_button.click()\n",
    "WebDriverWait(nav, 30)\n",
    "fetchUrl=nav.current_url;\n",
    "# print(1)"
   ]
  }
 ],
 "metadata": {
  "kernelspec": {
   "display_name": "Python 3 (ipykernel)",
   "language": "python",
   "name": "python3"
  },
  "language_info": {
   "codemirror_mode": {
    "name": "ipython",
    "version": 3
   },
   "file_extension": ".py",
   "mimetype": "text/x-python",
   "name": "python",
   "nbconvert_exporter": "python",
   "pygments_lexer": "ipython3",
   "version": "3.10.4"
  }
 },
 "nbformat": 4,
 "nbformat_minor": 5
}
